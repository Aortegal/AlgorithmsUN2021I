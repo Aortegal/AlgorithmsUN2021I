{
  "nbformat": 4,
  "nbformat_minor": 0,
  "metadata": {
    "kernelspec": {
      "display_name": "Python 3.5",
      "language": "python",
      "name": "py35"
    },
    "language_info": {
      "codemirror_mode": {
        "name": "ipython",
        "version": 3
      },
      "file_extension": ".py",
      "mimetype": "text/x-python",
      "name": "python",
      "nbconvert_exporter": "python",
      "pygments_lexer": "ipython3",
      "version": "3.6.5"
    },
    "colab": {
      "name": "aortegallecture2.ipynb",
      "provenance": [],
      "collapsed_sections": [
        "fFK4JLxWNuVs",
        "iBVjh_l1NuV3",
        "LEbuxtEKNuWK",
        "qlHZky9gNuWe",
        "L2jObz5tNuWy",
        "mkuMGw51NuXF",
        "0ASliuEaNuXQ",
        "Ibuy05bmNuXa",
        "Gl0fEOj7NuXg",
        "06GDo6ILNuXs",
        "NSlJxNf8NuXz",
        "Ry7Pt2RtNuX-",
        "8Z2WkcgwNuYC",
        "pW2_bbqiNuYQ",
        "9cHk0vkNNuYj"
      ]
    }
  },
  "cells": [
    {
      "cell_type": "markdown",
      "metadata": {
        "id": "ERqqWsTrNuU2"
      },
      "source": [
        "# Introduction to Python\n",
        "by Maxwell Margenot\n",
        "\n",
        "Part of the Quantopian Lecture Series:\n",
        "\n",
        "* [www.quantopian.com/lectures](https://www.quantopian.com/lectures)\n",
        "* [github.com/quantopian/research_public](https://github.com/quantopian/research_public)\n",
        "\n",
        "\n",
        "---\n",
        "\n",
        "All of the coding that you will do on the Quantopian platform will be in Python. It is also just a good, jack-of-all-trades language to know! Here we will provide you with the basics so that you can feel confident going through our other lectures and understanding what is happening."
      ]
    },
    {
      "cell_type": "markdown",
      "metadata": {
        "id": "fFK4JLxWNuVs"
      },
      "source": [
        "## Code Comments\n",
        "\n",
        "A comment is a note made by a programmer in the source code of a program. Its purpose is to clarify the source code and make it easier for people to follow along with what is happening. Anything in a comment is generally ignored when the code is actually run, making comments useful for including explanations and reasoning as well as removing specific lines of code that you may be unsure about. Comments in Python are created by using the pound symbol (`# Insert Text Here`). Including a `#` in a line of code will comment out anything that follows it."
      ]
    },
    {
      "cell_type": "code",
      "metadata": {
        "id": "dksm0f7WNuVv"
      },
      "source": [
        "# This is a comment\n",
        "# These lines of code will not change any values\n",
        "# Anything following the first # is not run as code"
      ],
      "execution_count": null,
      "outputs": []
    },
    {
      "cell_type": "markdown",
      "metadata": {
        "id": "e4UxfaP8N1za"
      },
      "source": [
        "**MI EJEMPLO**"
      ]
    },
    {
      "cell_type": "code",
      "metadata": {
        "id": "XNqeb14tN3sU"
      },
      "source": [
        "#Hola, esto es un comentario"
      ],
      "execution_count": null,
      "outputs": []
    },
    {
      "cell_type": "markdown",
      "metadata": {
        "id": "WXCSDwWQNuVx"
      },
      "source": [
        "You may hear text enclosed in triple quotes (`\"\"\" Insert Text Here \"\"\"`) referred to as multi-line comments, but this is not entirely accurate. This is a special type of `string` (a data type we will cover), called a `docstring`, used to explain the purpose of a function."
      ]
    },
    {
      "cell_type": "code",
      "metadata": {
        "id": "1q5fjuLNNuV1"
      },
      "source": [
        "\"\"\" This is a special string \"\"\""
      ],
      "execution_count": null,
      "outputs": []
    },
    {
      "cell_type": "markdown",
      "metadata": {
        "id": "P-9NLnMoOSUX"
      },
      "source": [
        "**MI EJEMPLO**"
      ]
    },
    {
      "cell_type": "code",
      "metadata": {
        "id": "FyUALG4qOSAo"
      },
      "source": [
        "\"\"\"Este es el proposito de un función\"\"\""
      ],
      "execution_count": null,
      "outputs": []
    },
    {
      "cell_type": "markdown",
      "metadata": {
        "id": "KDBF0j3SNuV2"
      },
      "source": [
        "Make sure you read the comments within each code cell (if they are there). They will provide more real-time explanations of what is going on as you look at each line of code."
      ]
    },
    {
      "cell_type": "markdown",
      "metadata": {
        "id": "iBVjh_l1NuV3"
      },
      "source": [
        "## Variables\n",
        "\n",
        "Variables provide names for values in programming. If you want to save a value for later or repeated use, you give the value a name, storing the contents in a variable. Variables in programming work in a fundamentally similar way to variables in algebra, but in Python they can take on various different data types.\n",
        "\n",
        "The basic variable types that we will cover in this section are `integers`, `floating point numbers`, `booleans`, and `strings`. \n",
        "\n",
        "An `integer` in programming is the same as in mathematics, a round number with no values after the decimal point. We use the built-in `print` function here to display the values of our variables as well as their types!"
      ]
    },
    {
      "cell_type": "code",
      "metadata": {
        "colab": {
          "base_uri": "https://localhost:8080/"
        },
        "id": "y4ANcXp7NuV5",
        "outputId": "62327b67-9cb0-429e-f5ff-cf0462026b38"
      },
      "source": [
        "my_integer = 50\n",
        "print my_integer, type(my_integer)"
      ],
      "execution_count": null,
      "outputs": [
        {
          "output_type": "stream",
          "text": [
            "50\n"
          ],
          "name": "stdout"
        }
      ]
    },
    {
      "cell_type": "markdown",
      "metadata": {
        "id": "ZenqOSp6Oc0i"
      },
      "source": [
        "**MI EJEMPLO**"
      ]
    },
    {
      "cell_type": "code",
      "metadata": {
        "colab": {
          "base_uri": "https://localhost:8080/"
        },
        "id": "k7nQyDxPOs1d",
        "outputId": "c584daf0-d8d8-4500-94e8-42b6488f3fac"
      },
      "source": [
        "palabra = \"Hola\"\r\n",
        "print(palabra)"
      ],
      "execution_count": null,
      "outputs": [
        {
          "output_type": "stream",
          "text": [
            "Hola\n"
          ],
          "name": "stdout"
        }
      ]
    },
    {
      "cell_type": "markdown",
      "metadata": {
        "id": "-ViL2I4dNuV6"
      },
      "source": [
        "Variables, regardless of type, are assigned by using a single equals sign (`=`). Variables are case-sensitive so any changes in variation in the capitals of a variable name will reference a different variable entirely."
      ]
    },
    {
      "cell_type": "code",
      "metadata": {
        "id": "0u4JP9ZGNuV7"
      },
      "source": [
        "one = 1\n",
        "print One"
      ],
      "execution_count": null,
      "outputs": []
    },
    {
      "cell_type": "markdown",
      "metadata": {
        "id": "Un6l-5PlPVN-"
      },
      "source": [
        "**MI EJEMPLO**"
      ]
    },
    {
      "cell_type": "code",
      "metadata": {
        "id": "u0VpZFB6PXLF"
      },
      "source": [
        "Dos = 2\r\n",
        "print(dos)"
      ],
      "execution_count": null,
      "outputs": []
    },
    {
      "cell_type": "markdown",
      "metadata": {
        "id": "xtm0cJMPNuV8"
      },
      "source": [
        "A `floating point` number, or a `float` is a fancy name for a real number (again as in mathematics). To define a `float`, we need to either include a decimal point or specify that the value is a float."
      ]
    },
    {
      "cell_type": "code",
      "metadata": {
        "scrolled": true,
        "id": "Ct8VTndCNuV-"
      },
      "source": [
        "my_float = 1.0\n",
        "print my_float, type(my_float)\n",
        "my_float = float(1)\n",
        "print my_float, type(my_float)"
      ],
      "execution_count": null,
      "outputs": []
    },
    {
      "cell_type": "markdown",
      "metadata": {
        "id": "fhM8cMOaQCoa"
      },
      "source": [
        "**MI EJEMPLO**"
      ]
    },
    {
      "cell_type": "code",
      "metadata": {
        "colab": {
          "base_uri": "https://localhost:8080/"
        },
        "id": "TtSNjyaIQCJ5",
        "outputId": "ecd9131e-3f5e-4000-a2a8-d8dff832695e"
      },
      "source": [
        "num_flotante = 2.5\r\n",
        "print(num_flotante)\r\n",
        "\r\n",
        "num2_flotante = float(4)\r\n",
        "print(num2_flotante)"
      ],
      "execution_count": null,
      "outputs": [
        {
          "output_type": "stream",
          "text": [
            "2.5\n",
            "4.0\n"
          ],
          "name": "stdout"
        }
      ]
    },
    {
      "cell_type": "markdown",
      "metadata": {
        "id": "DQ-i_PMsNuV_"
      },
      "source": [
        "A variable of type `float` will not round the number that you store in it, while a variable of type `integer` will. This makes `floats` more suitable for mathematical calculations where you want more than just integers.\n",
        "\n",
        "Note that as we used the `float()` function to force an number to be considered a `float`, we can use the `int()` function to force a number to be considered an `int`."
      ]
    },
    {
      "cell_type": "code",
      "metadata": {
        "id": "Z_jaxAHtNuWA"
      },
      "source": [
        "my_int = int(3.14159)\n",
        "print my_int, type(my_int)"
      ],
      "execution_count": null,
      "outputs": []
    },
    {
      "cell_type": "markdown",
      "metadata": {
        "id": "dPcehNG8RpM1"
      },
      "source": [
        "**MI EJEMPLO**"
      ]
    },
    {
      "cell_type": "code",
      "metadata": {
        "colab": {
          "base_uri": "https://localhost:8080/"
        },
        "id": "iIWnsEhzRsU9",
        "outputId": "a289eb47-f873-46f3-b295-8d04570bd820"
      },
      "source": [
        "float_to_int = int(23.44567)\r\n",
        "print(float_to_int)"
      ],
      "execution_count": null,
      "outputs": [
        {
          "output_type": "stream",
          "text": [
            "23\n"
          ],
          "name": "stdout"
        }
      ]
    },
    {
      "cell_type": "markdown",
      "metadata": {
        "id": "Qem0xjjHNuWB"
      },
      "source": [
        "The `int()` function will also truncate any digits that a number may have after the decimal point!\n",
        "\n",
        "Strings allow you to include text as a variable to operate on. They are defined using either single quotes ('') or double quotes (\"\")."
      ]
    },
    {
      "cell_type": "code",
      "metadata": {
        "colab": {
          "base_uri": "https://localhost:8080/"
        },
        "id": "60i831g5NuWC",
        "outputId": "fa01fa8b-6ca9-4137-e1f4-f99715b4ec88"
      },
      "source": [
        "my_string = 'This is a string with single quotes'\n",
        "print my_string\n",
        "my_string = \"This is a string with double quotes\"\n",
        "print my_string\n"
      ],
      "execution_count": null,
      "outputs": [
        {
          "output_type": "stream",
          "text": [
            "This is a string with single quotes\n",
            "This is a string with double quotes\n"
          ],
          "name": "stdout"
        }
      ]
    },
    {
      "cell_type": "markdown",
      "metadata": {
        "id": "fvLubHy7SVBc"
      },
      "source": [
        "**MI EJEMPLO**"
      ]
    },
    {
      "cell_type": "code",
      "metadata": {
        "colab": {
          "base_uri": "https://localhost:8080/"
        },
        "id": "hh9mZe7OSUuv",
        "outputId": "fcd37942-5d53-4ac5-816b-8d35d10bc5cf"
      },
      "source": [
        "string1 = \"Mensaje con comillas dobles\"\r\n",
        "print(string1)\r\n",
        "string2 = 'Mensaje con comillas simples'\r\n",
        "print(string2)"
      ],
      "execution_count": null,
      "outputs": [
        {
          "output_type": "stream",
          "text": [
            "Mensaje con comillas dobles\n",
            "Mensaje con comillas simples\n"
          ],
          "name": "stdout"
        }
      ]
    },
    {
      "cell_type": "markdown",
      "metadata": {
        "id": "oXnGlT7KNuWD"
      },
      "source": [
        "Both are allowed so that we can include apostrophes or quotation marks in a string if we so choose."
      ]
    },
    {
      "cell_type": "code",
      "metadata": {
        "id": "zNvKURC2NuWH"
      },
      "source": [
        "my_string = '\"Jabberwocky\", by Lewis Carroll'\n",
        "print my_string\n",
        "my_string = \"'Twas brillig, and the slithy toves / Did gyre and gimble in the wabe;\"\n",
        "print my_string"
      ],
      "execution_count": null,
      "outputs": []
    },
    {
      "cell_type": "markdown",
      "metadata": {
        "id": "mJpd7_NATzqb"
      },
      "source": [
        "**MI EJEMPLO**"
      ]
    },
    {
      "cell_type": "code",
      "metadata": {
        "colab": {
          "base_uri": "https://localhost:8080/"
        },
        "id": "pPCrQQKvT1h4",
        "outputId": "b1a80a07-af05-48b1-dfba-ac700739156d"
      },
      "source": [
        "mi_oracion = \"Ve a la tienda, Paola\"\r\n",
        "print(mi_oracion)"
      ],
      "execution_count": null,
      "outputs": [
        {
          "output_type": "stream",
          "text": [
            "Ve a la tienda, Paola\n"
          ],
          "name": "stdout"
        }
      ]
    },
    {
      "cell_type": "markdown",
      "metadata": {
        "id": "kKN92dVmNuWI"
      },
      "source": [
        "Booleans, or `bools` are binary variable types. A `bool` can only take on one of two values, these being `True` or `False`. There is much more to this idea of truth values when it comes to programming, which we cover later in the [Logical Operators](#id-section5) of this notebook."
      ]
    },
    {
      "cell_type": "code",
      "metadata": {
        "id": "urbUoTqTNuWJ"
      },
      "source": [
        "my_bool = True\n",
        "print my_bool, type(my_bool)"
      ],
      "execution_count": null,
      "outputs": []
    },
    {
      "cell_type": "markdown",
      "metadata": {
        "id": "_8HnyGtAUU9m"
      },
      "source": [
        "**MI EJEMPLO**"
      ]
    },
    {
      "cell_type": "code",
      "metadata": {
        "colab": {
          "base_uri": "https://localhost:8080/"
        },
        "id": "uAiQe5QoUUpy",
        "outputId": "0e78ad41-be7f-415d-fcc3-e71cce648d83"
      },
      "source": [
        "booleano = False\r\n",
        "print(booleano)"
      ],
      "execution_count": null,
      "outputs": [
        {
          "output_type": "stream",
          "text": [
            "False\n"
          ],
          "name": "stdout"
        }
      ]
    },
    {
      "cell_type": "markdown",
      "metadata": {
        "id": "sULEoCPFNuWJ"
      },
      "source": [
        "There are many more data types that you can assign as variables in Python, but these are the basic ones! We will cover a few more later as we move through this tutorial."
      ]
    },
    {
      "cell_type": "markdown",
      "metadata": {
        "id": "LEbuxtEKNuWK"
      },
      "source": [
        "## Basic Math\n",
        "\n",
        "Python has a number of built-in math functions. These can be extended even further by importing the **math** package or by including any number of other calculation-based packages.\n",
        "\n",
        "All of the basic arithmetic operations are supported: `+`, `-`, `/`, and `*`. You can create exponents by using `**` and modular arithmetic is introduced with the mod operator, `%`."
      ]
    },
    {
      "cell_type": "code",
      "metadata": {
        "id": "9mr7NQC_NuWL"
      },
      "source": [
        "print 'Addition: ', 2 + 2\n",
        "print 'Subtraction: ', 7 - 4\n",
        "print 'Multiplication: ', 2 * 5\n",
        "print 'Division: ', 10 / 2\n",
        "print 'Exponentiation: ', 3**2"
      ],
      "execution_count": null,
      "outputs": []
    },
    {
      "cell_type": "markdown",
      "metadata": {
        "id": "8KQujPi-VID9"
      },
      "source": [
        "**MI EJEMPLO**"
      ]
    },
    {
      "cell_type": "code",
      "metadata": {
        "colab": {
          "base_uri": "https://localhost:8080/"
        },
        "id": "qq0-MROUVHpi",
        "outputId": "e17fc67f-7656-49f9-8ab5-1bb52eb04905"
      },
      "source": [
        "print(\"Suma\",4+3)\r\n",
        "print(\"Resta\",4-3)\r\n",
        "print(\"Multiplicación\",4*3)\r\n",
        "print(\"División\",4/3)\r\n",
        "print(\"Exponenciación\",4**3)"
      ],
      "execution_count": null,
      "outputs": [
        {
          "output_type": "stream",
          "text": [
            "Suma 7\n",
            "Resta 1\n",
            "Multiplicación 12\n",
            "División 1.3333333333333333\n",
            "Exponenciación 64\n"
          ],
          "name": "stdout"
        }
      ]
    },
    {
      "cell_type": "markdown",
      "metadata": {
        "id": "pkqPt5MANuWM"
      },
      "source": [
        "If you are not familiar with the the mod operator, it operates like a remainder function. If we type $15 \\ \\% \\ 4$, it will return the remainder after dividing $15$ by $4$."
      ]
    },
    {
      "cell_type": "code",
      "metadata": {
        "colab": {
          "base_uri": "https://localhost:8080/"
        },
        "id": "LY46ldZrNuWN",
        "outputId": "d0846970-c5ae-48b2-a2d3-c045a60f8373"
      },
      "source": [
        "print 'Modulo: ', 15 % 4"
      ],
      "execution_count": null,
      "outputs": [
        {
          "output_type": "stream",
          "text": [
            "Modulo:  3\n"
          ],
          "name": "stdout"
        }
      ]
    },
    {
      "cell_type": "markdown",
      "metadata": {
        "id": "qUVmoGB_XgS4"
      },
      "source": [
        "**MI EJEMPLO**"
      ]
    },
    {
      "cell_type": "code",
      "metadata": {
        "colab": {
          "base_uri": "https://localhost:8080/"
        },
        "id": "uAcpO9gxXgA2",
        "outputId": "a4a54269-14e5-4df2-afe0-09c788e4bc76"
      },
      "source": [
        "print(\"Modulo\", 21 % 6)"
      ],
      "execution_count": null,
      "outputs": [
        {
          "output_type": "stream",
          "text": [
            "Modulo 3\n"
          ],
          "name": "stdout"
        }
      ]
    },
    {
      "cell_type": "markdown",
      "metadata": {
        "id": "faxOL3X7NuWN"
      },
      "source": [
        "Mathematical functions also work on variables!"
      ]
    },
    {
      "cell_type": "code",
      "metadata": {
        "scrolled": true,
        "id": "vj5ahl4jNuWO"
      },
      "source": [
        "first_integer = 4\n",
        "second_integer = 5\n",
        "print first_integer * second_integer"
      ],
      "execution_count": null,
      "outputs": []
    },
    {
      "cell_type": "markdown",
      "metadata": {
        "id": "i9ASsLoYX7qF"
      },
      "source": [
        "**MI EJEMPLO**"
      ]
    },
    {
      "cell_type": "code",
      "metadata": {
        "colab": {
          "base_uri": "https://localhost:8080/"
        },
        "id": "sva8c_soX7ax",
        "outputId": "ea29a255-c3d1-4b07-e086-91d60a667793"
      },
      "source": [
        "num_1 = 5\r\n",
        "num_2 = 14\r\n",
        "print(num_1*num_2)"
      ],
      "execution_count": null,
      "outputs": [
        {
          "output_type": "stream",
          "text": [
            "70\n"
          ],
          "name": "stdout"
        }
      ]
    },
    {
      "cell_type": "markdown",
      "metadata": {
        "id": "oRFqsz8nNuWP"
      },
      "source": [
        "Make sure that your variables are floats if you want to have decimal points in your answer. If you perform math exclusively with integers, you get an integer. Including any float in the calculation will make the result a float."
      ]
    },
    {
      "cell_type": "code",
      "metadata": {
        "id": "NNGcBTt_NuWR"
      },
      "source": [
        "first_integer = 11\n",
        "second_integer = 3\n",
        "print first_integer / second_integer"
      ],
      "execution_count": null,
      "outputs": []
    },
    {
      "cell_type": "markdown",
      "metadata": {
        "id": "eF106mc2Yjn9"
      },
      "source": [
        "**MI EJEMPLO**"
      ]
    },
    {
      "cell_type": "code",
      "metadata": {
        "colab": {
          "base_uri": "https://localhost:8080/"
        },
        "id": "D6DDUvitYjUa",
        "outputId": "84f872b2-fe6a-44d3-831a-8dd3fcbda9c5"
      },
      "source": [
        "num_1 = 5\r\n",
        "num_2 = 14\r\n",
        "print(num_1/num_2)"
      ],
      "execution_count": null,
      "outputs": [
        {
          "output_type": "stream",
          "text": [
            "0.35714285714285715\n"
          ],
          "name": "stdout"
        }
      ]
    },
    {
      "cell_type": "code",
      "metadata": {
        "id": "G-JvzB3SNuWX"
      },
      "source": [
        "first_number = 11.0\n",
        "second_number = 3.0\n",
        "print first_number / second_number"
      ],
      "execution_count": null,
      "outputs": []
    },
    {
      "cell_type": "markdown",
      "metadata": {
        "id": "Ro1o_EmUYrwU"
      },
      "source": [
        "**MI EJEMPLO**"
      ]
    },
    {
      "cell_type": "code",
      "metadata": {
        "colab": {
          "base_uri": "https://localhost:8080/"
        },
        "id": "yk7P_W0aYrhY",
        "outputId": "a059811b-427d-4b2d-ec80-497d117d9c5c"
      },
      "source": [
        "num_1 = 5.0\r\n",
        "num_2 = 14.0\r\n",
        "print(num_1/num_2)"
      ],
      "execution_count": null,
      "outputs": [
        {
          "output_type": "stream",
          "text": [
            "0.35714285714285715\n"
          ],
          "name": "stdout"
        }
      ]
    },
    {
      "cell_type": "markdown",
      "metadata": {
        "id": "NJr3jXbbNuWX"
      },
      "source": [
        "Python has a few built-in math functions. The most notable of these are:\n",
        "\n",
        "* `abs()`\n",
        "* `round()`\n",
        "* `max()`\n",
        "* `min()`\n",
        "* `sum()`\n",
        "\n",
        "These functions all act as you would expect, given their names. Calling `abs()` on a number will return its absolute value. The `round()` function will round a number to a specified number of the decimal points (the default is $0$). Calling `max()` or `min()` on a collection of numbers will return, respectively, the maximum or minimum value in the collection. Calling `sum()` on a collection of numbers will add them all up. If you're not familiar with how collections of values in Python work, don't worry! We will cover collections in-depth in the next section. \n",
        "\n",
        "Additional math functionality can be added in with the `math` package."
      ]
    },
    {
      "cell_type": "code",
      "metadata": {
        "id": "Iw-fpHIpNuWZ"
      },
      "source": [
        "import math"
      ],
      "execution_count": null,
      "outputs": []
    },
    {
      "cell_type": "markdown",
      "metadata": {
        "id": "lKzwgdTZZRF0"
      },
      "source": [
        "**MI EJEMPLO**"
      ]
    },
    {
      "cell_type": "code",
      "metadata": {
        "id": "3LvQrqM1ZQ3g"
      },
      "source": [
        "import math"
      ],
      "execution_count": null,
      "outputs": []
    },
    {
      "cell_type": "markdown",
      "metadata": {
        "id": "aEyECNMbNuWa"
      },
      "source": [
        "The math library adds a long list of new mathematical functions to Python. Feel free to check out the [documentation](https://docs.python.org/2/library/math.html) for the full list and details. It concludes some mathematical constants"
      ]
    },
    {
      "cell_type": "code",
      "metadata": {
        "id": "tFzR74-VNuWb"
      },
      "source": [
        "print 'Pi: ', math.pi\n",
        "print \"Euler's Constant: \", math.e"
      ],
      "execution_count": null,
      "outputs": []
    },
    {
      "cell_type": "markdown",
      "metadata": {
        "id": "xB9YrQEVZXEj"
      },
      "source": [
        "**MI EJEMPLO**"
      ]
    },
    {
      "cell_type": "code",
      "metadata": {
        "colab": {
          "base_uri": "https://localhost:8080/"
        },
        "id": "scGYsB3zZW3E",
        "outputId": "2ecd7cde-a596-4247-d9a8-2bef8bf637e1"
      },
      "source": [
        "import math\r\n",
        "print(\"PI: \", math.pi)\r\n",
        "print(\"Constante de Euler: \", math.e)"
      ],
      "execution_count": null,
      "outputs": [
        {
          "output_type": "stream",
          "text": [
            "PI:  3.141592653589793\n",
            "Constante de Euler:  2.718281828459045\n"
          ],
          "name": "stdout"
        }
      ]
    },
    {
      "cell_type": "markdown",
      "metadata": {
        "id": "HStKxTRRNuWc"
      },
      "source": [
        "As well as some commonly used math functions"
      ]
    },
    {
      "cell_type": "code",
      "metadata": {
        "id": "piWI3ffKNuWd"
      },
      "source": [
        "print 'Cosine of pi: ', math.cos(math.pi)"
      ],
      "execution_count": null,
      "outputs": []
    },
    {
      "cell_type": "markdown",
      "metadata": {
        "id": "Kevgn3LoZ1on"
      },
      "source": [
        "**MI EJEMPLO**"
      ]
    },
    {
      "cell_type": "code",
      "metadata": {
        "colab": {
          "base_uri": "https://localhost:8080/"
        },
        "id": "gNVyW--DZ1ZA",
        "outputId": "fbf5fcad-41b8-487b-f4a1-a6d4157f55b9"
      },
      "source": [
        "print(\"Seno de euler: \", math.sin(math.e))"
      ],
      "execution_count": null,
      "outputs": [
        {
          "output_type": "stream",
          "text": [
            "Seno de euler:  0.41078129050290885\n"
          ],
          "name": "stdout"
        }
      ]
    },
    {
      "cell_type": "markdown",
      "metadata": {
        "id": "qlHZky9gNuWe"
      },
      "source": [
        "## Collections\n",
        "### Lists\n",
        "\n",
        "A `list` in Python is an ordered collection of objects that can contain any data type. We define a `list` using brackets (`[]`)."
      ]
    },
    {
      "cell_type": "code",
      "metadata": {
        "id": "1yn7nAVwNuWe"
      },
      "source": [
        "my_list = [1, 2, 3]\n",
        "print my_list"
      ],
      "execution_count": null,
      "outputs": []
    },
    {
      "cell_type": "markdown",
      "metadata": {
        "id": "XWPdssRVcRXn"
      },
      "source": [
        "**MI EJEMPLO**"
      ]
    },
    {
      "cell_type": "code",
      "metadata": {
        "colab": {
          "base_uri": "https://localhost:8080/"
        },
        "id": "5UgAEanGcRD1",
        "outputId": "bbece189-f37b-4a96-a7f2-2058aa43b832"
      },
      "source": [
        "MiLista = [20, 40, 50]\r\n",
        "print(MiLista)"
      ],
      "execution_count": null,
      "outputs": [
        {
          "output_type": "stream",
          "text": [
            "[20, 40, 50]\n"
          ],
          "name": "stdout"
        }
      ]
    },
    {
      "cell_type": "markdown",
      "metadata": {
        "id": "E_yaJnHrNuWf"
      },
      "source": [
        "We can access and index the list by using brackets as well. In order to select an individual element, simply type the list name followed by the index of the item you are looking for in braces."
      ]
    },
    {
      "cell_type": "code",
      "metadata": {
        "id": "3kqlM4KPNuWg"
      },
      "source": [
        "print my_list[0]\n",
        "print my_list[2]"
      ],
      "execution_count": null,
      "outputs": []
    },
    {
      "cell_type": "markdown",
      "metadata": {
        "id": "ID_M_eewclrO"
      },
      "source": [
        "**MI EJEMPLO**"
      ]
    },
    {
      "cell_type": "code",
      "metadata": {
        "colab": {
          "base_uri": "https://localhost:8080/"
        },
        "id": "soOu_hIvclhH",
        "outputId": "aa9c66e0-6d6c-4218-851a-778180ecd1ad"
      },
      "source": [
        "MiLista = [20, 40, 50]\r\n",
        "\r\n",
        "print(MiLista[0])\r\n",
        "print(MiLista[2])"
      ],
      "execution_count": null,
      "outputs": [
        {
          "output_type": "stream",
          "text": [
            "20\n",
            "50\n"
          ],
          "name": "stdout"
        }
      ]
    },
    {
      "cell_type": "markdown",
      "metadata": {
        "id": "d3oM9Ju1NuWg"
      },
      "source": [
        "Indexing in Python starts from $0$. If you have a list of length $n$, the first element of the list is at index $0$, the second element is at index $1$, and so on and so forth. The final element of the list will be at index $n-1$. Be careful! Trying to access a non-existent index will cause an error."
      ]
    },
    {
      "cell_type": "code",
      "metadata": {
        "id": "oGFj13fjNuWh"
      },
      "source": [
        "print 'The first, second, and third list elements: ', my_list[0], my_list[1], my_list[2]\n",
        "print 'Accessing outside the list bounds causes an error: ', my_list[3]"
      ],
      "execution_count": null,
      "outputs": []
    },
    {
      "cell_type": "markdown",
      "metadata": {
        "id": "wySlxe-KczMf"
      },
      "source": [
        "**MI EJEMPLO**"
      ]
    },
    {
      "cell_type": "code",
      "metadata": {
        "colab": {
          "base_uri": "https://localhost:8080/"
        },
        "id": "JKfyJsBxczDc",
        "outputId": "4a0dfb53-7c54-4d28-f7b7-420d6fb97de6"
      },
      "source": [
        "MiLista = [20, 40, 50]\r\n",
        "print(\"El primer, segundo y tercer elemento de la lista son: \", MiLista[0], MiLista[1], MiLista[2] )"
      ],
      "execution_count": null,
      "outputs": [
        {
          "output_type": "stream",
          "text": [
            "El primer, segundo y tercer elemento de la lista son:  20 40 50\n"
          ],
          "name": "stdout"
        }
      ]
    },
    {
      "cell_type": "markdown",
      "metadata": {
        "id": "SV4bmqrtNuWi"
      },
      "source": [
        "We can see the number of elements in a list by calling the `len()` function."
      ]
    },
    {
      "cell_type": "code",
      "metadata": {
        "id": "2LdJqLq5NuWj"
      },
      "source": [
        "print len(my_list)"
      ],
      "execution_count": null,
      "outputs": []
    },
    {
      "cell_type": "markdown",
      "metadata": {
        "id": "6c2YaiKhdbGR"
      },
      "source": [
        "**MI EJEMPLO**"
      ]
    },
    {
      "cell_type": "code",
      "metadata": {
        "colab": {
          "base_uri": "https://localhost:8080/"
        },
        "id": "8MUwEea6da7-",
        "outputId": "ccbff659-8e24-4bd4-c486-b27de605a4db"
      },
      "source": [
        "MiLista = [20, 40, 50]\r\n",
        "print(len(MiLista))"
      ],
      "execution_count": null,
      "outputs": [
        {
          "output_type": "stream",
          "text": [
            "3\n"
          ],
          "name": "stdout"
        }
      ]
    },
    {
      "cell_type": "markdown",
      "metadata": {
        "id": "ZRZ69ijTNuWk"
      },
      "source": [
        "We can update and change a list by accessing an index and assigning new value."
      ]
    },
    {
      "cell_type": "code",
      "metadata": {
        "id": "bToRRlXyNuWm"
      },
      "source": [
        "print my_list\n",
        "my_list[0] = 42\n",
        "print my_list"
      ],
      "execution_count": null,
      "outputs": []
    },
    {
      "cell_type": "markdown",
      "metadata": {
        "id": "1_ThIumjd_aP"
      },
      "source": [
        "**MI EJEMPLO**"
      ]
    },
    {
      "cell_type": "code",
      "metadata": {
        "colab": {
          "base_uri": "https://localhost:8080/"
        },
        "id": "AtNmrQI5d_JO",
        "outputId": "f87509d5-b45c-4e07-d87a-de52e30a1cc0"
      },
      "source": [
        "MiLista = [20, 40, 50]\r\n",
        "MiLista [0] = 35\r\n",
        "print(MiLista)"
      ],
      "execution_count": null,
      "outputs": [
        {
          "output_type": "stream",
          "text": [
            "[35, 40, 50]\n"
          ],
          "name": "stdout"
        }
      ]
    },
    {
      "cell_type": "markdown",
      "metadata": {
        "id": "ItCOLSx6NuWn"
      },
      "source": [
        "This is fundamentally different from how strings are handled. A `list` is mutable, meaning that you can change a `list`'s elements without changing the list itself. Some data types, like `strings`, are immutable, meaning you cannot change them at all. Once a `string` or other immutable data type has been created, it cannot be directly modified without creating an entirely new object."
      ]
    },
    {
      "cell_type": "code",
      "metadata": {
        "id": "sx7go8-gNuWo"
      },
      "source": [
        "my_string = \"Strings never change\"\n",
        "my_string[0] = 'Z'"
      ],
      "execution_count": null,
      "outputs": []
    },
    {
      "cell_type": "markdown",
      "metadata": {
        "id": "HzPMztQdeRTp"
      },
      "source": [
        "**MI EJEMPLO**"
      ]
    },
    {
      "cell_type": "code",
      "metadata": {
        "id": "Yqf1f0GteQ-e"
      },
      "source": [
        "palabra = \"Hola\"  \r\n",
        "palabra[0] = \"Z\""
      ],
      "execution_count": null,
      "outputs": []
    },
    {
      "cell_type": "markdown",
      "metadata": {
        "id": "Utb2mxDrNuWp"
      },
      "source": [
        "As we stated before, a list can contain any data type. Thus, lists can also contain strings."
      ]
    },
    {
      "cell_type": "code",
      "metadata": {
        "id": "JeDHMc1gNuWq"
      },
      "source": [
        "my_list_2 = ['one', 'two', 'three']\n",
        "print my_list_2"
      ],
      "execution_count": null,
      "outputs": []
    },
    {
      "cell_type": "markdown",
      "metadata": {
        "id": "3wFh1TUZhyJ7"
      },
      "source": [
        "**MI EJEMPLO**"
      ]
    },
    {
      "cell_type": "code",
      "metadata": {
        "colab": {
          "base_uri": "https://localhost:8080/"
        },
        "id": "9YTU_NfdhxvE",
        "outputId": "7c350648-a634-4d65-d9e6-29638eda2557"
      },
      "source": [
        "MiLista = [\"cuatro\",\"cinco\",\"seis\"]\r\n",
        "print(MiLista)"
      ],
      "execution_count": null,
      "outputs": [
        {
          "output_type": "stream",
          "text": [
            "['cuatro', 'cinco', 'seis']\n"
          ],
          "name": "stdout"
        }
      ]
    },
    {
      "cell_type": "markdown",
      "metadata": {
        "id": "WE4ueyt0NuWs"
      },
      "source": [
        "Lists can also contain multiple different data types at once!"
      ]
    },
    {
      "cell_type": "code",
      "metadata": {
        "id": "MlxH__IONuWt"
      },
      "source": [
        "my_list_3 = [True, 'False', 42]"
      ],
      "execution_count": null,
      "outputs": []
    },
    {
      "cell_type": "markdown",
      "metadata": {
        "id": "NgJbBZeOilw-"
      },
      "source": [
        "**MI EJEMPLO**"
      ]
    },
    {
      "cell_type": "code",
      "metadata": {
        "colab": {
          "base_uri": "https://localhost:8080/"
        },
        "id": "Q6aGpVZlileq",
        "outputId": "f01a34be-e726-4a7f-ffa6-7195e33a0bab"
      },
      "source": [
        "MiLista2 = [False, \"Hola Mundo\", 45.98]\r\n",
        "print(MiLista2)"
      ],
      "execution_count": null,
      "outputs": [
        {
          "output_type": "stream",
          "text": [
            "[False, 'Hola Mundo', 45.98]\n"
          ],
          "name": "stdout"
        }
      ]
    },
    {
      "cell_type": "markdown",
      "metadata": {
        "id": "MQEhI6niNuWu"
      },
      "source": [
        "If you want to put two lists together, they can be combined with a `+` symbol."
      ]
    },
    {
      "cell_type": "code",
      "metadata": {
        "id": "tA95oyVkNuWv"
      },
      "source": [
        "my_list_4 = my_list + my_list_2 + my_list_3\n",
        "print my_list_4"
      ],
      "execution_count": null,
      "outputs": []
    },
    {
      "cell_type": "markdown",
      "metadata": {
        "id": "mVaJ6UO7i4YM"
      },
      "source": [
        ""
      ]
    },
    {
      "cell_type": "markdown",
      "metadata": {
        "id": "WK8IgSeokC8H"
      },
      "source": [
        "**MI EJEMPLO**"
      ]
    },
    {
      "cell_type": "code",
      "metadata": {
        "colab": {
          "base_uri": "https://localhost:8080/"
        },
        "id": "eGO_iOMti49p",
        "outputId": "4a6d6b7a-1c74-479c-eae4-8d4a0cefcad1"
      },
      "source": [
        "MiLista3 = MiLista + MiLista2\r\n",
        "print(MiLista3)"
      ],
      "execution_count": null,
      "outputs": [
        {
          "output_type": "stream",
          "text": [
            "['cuatro', 'cinco', 'seis', False, 'Hola Mundo', 45.98]\n"
          ],
          "name": "stdout"
        }
      ]
    },
    {
      "cell_type": "markdown",
      "metadata": {
        "id": "D4Dipy6vNuWw"
      },
      "source": [
        "In addition to accessing individual elements of a list, we can access groups of elements through slicing."
      ]
    },
    {
      "cell_type": "code",
      "metadata": {
        "id": "tb9gU1rlNuWx"
      },
      "source": [
        "my_list = ['friends', 'romans', 'countrymen', 'lend', 'me', 'your', 'ears']"
      ],
      "execution_count": null,
      "outputs": []
    },
    {
      "cell_type": "markdown",
      "metadata": {
        "id": "xQc_0d_ekLtQ"
      },
      "source": [
        "**MI EJEMPLO**"
      ]
    },
    {
      "cell_type": "code",
      "metadata": {
        "id": "ACLjrOPpkLLT"
      },
      "source": [
        "Lista = [\"Hola\",\"Me \",\"Llamo\",\"Andrés\"]"
      ],
      "execution_count": null,
      "outputs": []
    },
    {
      "cell_type": "markdown",
      "metadata": {
        "id": "L2jObz5tNuWy"
      },
      "source": [
        "#### Slicing\n",
        "\n",
        "We use the colon (`:`) to slice lists. "
      ]
    },
    {
      "cell_type": "code",
      "metadata": {
        "scrolled": true,
        "id": "a1wuehu_NuWy"
      },
      "source": [
        "print my_list[2:4]"
      ],
      "execution_count": null,
      "outputs": []
    },
    {
      "cell_type": "markdown",
      "metadata": {
        "id": "dOAd0k24kpHZ"
      },
      "source": [
        "**MI EJEMPLO**"
      ]
    },
    {
      "cell_type": "code",
      "metadata": {
        "colab": {
          "base_uri": "https://localhost:8080/"
        },
        "id": "dp-UNDd6ko2J",
        "outputId": "b605701f-e788-4ed7-9f6d-77945c8aa238"
      },
      "source": [
        "print(MiLista[1:2])"
      ],
      "execution_count": null,
      "outputs": [
        {
          "output_type": "stream",
          "text": [
            "['cinco']\n"
          ],
          "name": "stdout"
        }
      ]
    },
    {
      "cell_type": "markdown",
      "metadata": {
        "id": "iilAJHBINuWz"
      },
      "source": [
        "Using `:` we can select a group of elements in the list starting from the first element indicated and going up to  (but not including) the last element indicated.\n",
        "\n",
        "We can also select everything after a certain point"
      ]
    },
    {
      "cell_type": "code",
      "metadata": {
        "scrolled": true,
        "id": "u_UiSKzXNuW0"
      },
      "source": [
        "print my_list[1:]"
      ],
      "execution_count": null,
      "outputs": []
    },
    {
      "cell_type": "markdown",
      "metadata": {
        "id": "1ZqgNaUyk5F4"
      },
      "source": [
        "**MI EJEMPLO**"
      ]
    },
    {
      "cell_type": "code",
      "metadata": {
        "colab": {
          "base_uri": "https://localhost:8080/"
        },
        "id": "t3vGHw32k41j",
        "outputId": "906e8d72-9062-4da1-8b10-4b3b08611416"
      },
      "source": [
        "print(MiLista3[4:])"
      ],
      "execution_count": null,
      "outputs": [
        {
          "output_type": "stream",
          "text": [
            "['Hola Mundo', 45.98]\n"
          ],
          "name": "stdout"
        }
      ]
    },
    {
      "cell_type": "markdown",
      "metadata": {
        "id": "jA5AhOwiNuW0"
      },
      "source": [
        "And everything before a certain point"
      ]
    },
    {
      "cell_type": "code",
      "metadata": {
        "scrolled": true,
        "id": "Ks-LH8quNuW4"
      },
      "source": [
        "print my_list[:4]"
      ],
      "execution_count": null,
      "outputs": []
    },
    {
      "cell_type": "markdown",
      "metadata": {
        "id": "kTiqNKBkmZYX"
      },
      "source": [
        "**MI EJEMPLO**"
      ]
    },
    {
      "cell_type": "code",
      "metadata": {
        "colab": {
          "base_uri": "https://localhost:8080/"
        },
        "id": "iLbq2F-VmZGl",
        "outputId": "5e0237c4-1ae4-4b95-a103-a5173fbc479d"
      },
      "source": [
        "print(MiLista2[:1])"
      ],
      "execution_count": null,
      "outputs": [
        {
          "output_type": "stream",
          "text": [
            "[False]\n"
          ],
          "name": "stdout"
        }
      ]
    },
    {
      "cell_type": "markdown",
      "metadata": {
        "id": "jgA9nTGjNuW5"
      },
      "source": [
        "Using negative numbers will count from the end of the indices instead of from the beginning. For example, an index of `-1` indicates the last element of the list."
      ]
    },
    {
      "cell_type": "code",
      "metadata": {
        "id": "schm4Ak_NuW5"
      },
      "source": [
        "print my_list[-1]"
      ],
      "execution_count": null,
      "outputs": []
    },
    {
      "cell_type": "markdown",
      "metadata": {
        "id": "Kfd2mof4moKx"
      },
      "source": [
        "**MI EJEMPLO**"
      ]
    },
    {
      "cell_type": "code",
      "metadata": {
        "colab": {
          "base_uri": "https://localhost:8080/"
        },
        "id": "XlZ7uGDmmn6M",
        "outputId": "80d8f8d2-76d5-4eac-dd39-c550847a378b"
      },
      "source": [
        "print(MiLista2[-1])"
      ],
      "execution_count": null,
      "outputs": [
        {
          "output_type": "stream",
          "text": [
            "45.98\n"
          ],
          "name": "stdout"
        }
      ]
    },
    {
      "cell_type": "markdown",
      "metadata": {
        "id": "53e4AlZmNuW6"
      },
      "source": [
        "You can also add a third component to slicing. Instead of simply indicating the first and final parts of your slice, you can specify the step size that you want to take. So instead of taking every single element, you can take every other element."
      ]
    },
    {
      "cell_type": "code",
      "metadata": {
        "id": "HmAPZAKENuW7"
      },
      "source": [
        "print my_list[0:7:2]"
      ],
      "execution_count": null,
      "outputs": []
    },
    {
      "cell_type": "markdown",
      "metadata": {
        "id": "gzCexT3Gm4yH"
      },
      "source": [
        "**MI EJEMPLO**"
      ]
    },
    {
      "cell_type": "code",
      "metadata": {
        "colab": {
          "base_uri": "https://localhost:8080/"
        },
        "id": "-Ux-1c-am4Y5",
        "outputId": "3ef0aabe-53fb-4b3f-db64-83e91ee316c5"
      },
      "source": [
        "print(MiLista3[0:2:4])"
      ],
      "execution_count": null,
      "outputs": [
        {
          "output_type": "stream",
          "text": [
            "['cuatro']\n"
          ],
          "name": "stdout"
        }
      ]
    },
    {
      "cell_type": "markdown",
      "metadata": {
        "id": "h4ok1xgNNuW7"
      },
      "source": [
        "Here we have selected the entire list (because `0:7` will yield elements `0` through `6`) and we have selected a step size of `2`. So this will spit out element `0` , element `2`, element `4`, and so on through the list element selected. We can skip indicated the beginning and end of our slice, only indicating the step, if we like."
      ]
    },
    {
      "cell_type": "code",
      "metadata": {
        "id": "j412qa8lNuW8"
      },
      "source": [
        "print my_list[::2]"
      ],
      "execution_count": null,
      "outputs": []
    },
    {
      "cell_type": "markdown",
      "metadata": {
        "id": "mscU6j8GnIQB"
      },
      "source": [
        "**MI EJEMPLO**"
      ]
    },
    {
      "cell_type": "code",
      "metadata": {
        "colab": {
          "base_uri": "https://localhost:8080/"
        },
        "id": "WZiXDOrknH--",
        "outputId": "30490ab6-cb08-46d2-ebdc-6d33697d3fe4"
      },
      "source": [
        "print(MiLista3[::4])"
      ],
      "execution_count": null,
      "outputs": [
        {
          "output_type": "stream",
          "text": [
            "['cuatro', 'Hola Mundo']\n"
          ],
          "name": "stdout"
        }
      ]
    },
    {
      "cell_type": "markdown",
      "metadata": {
        "id": "-XHctzi2NuW8"
      },
      "source": [
        "Lists implictly select the beginning and end of the list when not otherwise specified."
      ]
    },
    {
      "cell_type": "code",
      "metadata": {
        "id": "MZaz-rrVNuW9"
      },
      "source": [
        "print my_list[:]"
      ],
      "execution_count": null,
      "outputs": []
    },
    {
      "cell_type": "markdown",
      "metadata": {
        "id": "2AourJ3RnV5h"
      },
      "source": [
        "**MI EJEMPLO**\r\n",
        "\r\n"
      ]
    },
    {
      "cell_type": "code",
      "metadata": {
        "id": "8dLUo1jRnczi"
      },
      "source": [
        "print(MiLista2[:])"
      ],
      "execution_count": null,
      "outputs": []
    },
    {
      "cell_type": "markdown",
      "metadata": {
        "id": "9GS7Qg5JNuW-"
      },
      "source": [
        "With a negative step size we can even reverse the list!"
      ]
    },
    {
      "cell_type": "code",
      "metadata": {
        "id": "3c_UjnlrNuW-"
      },
      "source": [
        "print my_list[::-1]"
      ],
      "execution_count": null,
      "outputs": []
    },
    {
      "cell_type": "markdown",
      "metadata": {
        "id": "GyoifwRyniHW"
      },
      "source": [
        "**MI EJEMPLO**"
      ]
    },
    {
      "cell_type": "code",
      "metadata": {
        "colab": {
          "base_uri": "https://localhost:8080/"
        },
        "id": "DJiPSZHWnh2N",
        "outputId": "56fbc886-5207-4fd5-89e0-112557e70f9c"
      },
      "source": [
        "print(MiLista3[::-1])"
      ],
      "execution_count": null,
      "outputs": [
        {
          "output_type": "stream",
          "text": [
            "[45.98, 'Hola Mundo', False, 'seis', 'cinco', 'cuatro']\n"
          ],
          "name": "stdout"
        }
      ]
    },
    {
      "cell_type": "markdown",
      "metadata": {
        "id": "eZS64b9XNuW_"
      },
      "source": [
        "Python does not have native matrices, but with lists we can produce a working fascimile. Other packages, such as `numpy`, add matrices as a separate data type, but in base Python the best way to create a matrix is to use a list of lists."
      ]
    },
    {
      "cell_type": "markdown",
      "metadata": {
        "id": "hso0liNHNuW_"
      },
      "source": [
        "We can also use built-in functions to generate lists. In particular we will look at `range()` (because we will be using it later!). Range can take several different inputs and will return a list."
      ]
    },
    {
      "cell_type": "code",
      "metadata": {
        "colab": {
          "base_uri": "https://localhost:8080/"
        },
        "id": "2yVe85B_NuXA",
        "outputId": "7a04c385-6a99-4923-efda-98bc5ce493d2"
      },
      "source": [
        "b = 10\n",
        "my_list = range(b)\n",
        "print my_list"
      ],
      "execution_count": null,
      "outputs": [
        {
          "output_type": "stream",
          "text": [
            "range(0, 2)\n"
          ],
          "name": "stdout"
        }
      ]
    },
    {
      "cell_type": "markdown",
      "metadata": {
        "id": "PRXQaoVloNtx"
      },
      "source": [
        "**MI EJMPLO**"
      ]
    },
    {
      "cell_type": "code",
      "metadata": {
        "colab": {
          "base_uri": "https://localhost:8080/"
        },
        "id": "VHISjJmMoNef",
        "outputId": "f69ffa8f-89d8-4347-a730-565959db5b51"
      },
      "source": [
        "a=20\r\n",
        "MiLista4 = range(a)\r\n",
        "print(MiLista4)"
      ],
      "execution_count": null,
      "outputs": [
        {
          "output_type": "stream",
          "text": [
            "range(0, 20)\n"
          ],
          "name": "stdout"
        }
      ]
    },
    {
      "cell_type": "markdown",
      "metadata": {
        "id": "geQ4sMpjNuXB"
      },
      "source": [
        "Similar to our list-slicing methods from before, we can define both a start and an end for our range. This will return a list that is includes the start and excludes the end, just like a slice."
      ]
    },
    {
      "cell_type": "code",
      "metadata": {
        "id": "EmIgMnJdNuXC"
      },
      "source": [
        "a = 0\n",
        "b = 10\n",
        "my_list = range(a, b)\n",
        "print my_list"
      ],
      "execution_count": null,
      "outputs": []
    },
    {
      "cell_type": "markdown",
      "metadata": {
        "id": "fR03_SawoLWb"
      },
      "source": [
        "**MI EJEMPLO**"
      ]
    },
    {
      "cell_type": "code",
      "metadata": {
        "colab": {
          "base_uri": "https://localhost:8080/"
        },
        "id": "ygbo2j_NoLE5",
        "outputId": "e06dd6f5-8091-4094-d654-49d0f10ffab4"
      },
      "source": [
        "a = 20\r\n",
        "b = 10\r\n",
        "MiLista4 = range(a,b)\r\n",
        "print(MiLista4)"
      ],
      "execution_count": null,
      "outputs": [
        {
          "output_type": "stream",
          "text": [
            "range(20, 10)\n"
          ],
          "name": "stdout"
        }
      ]
    },
    {
      "cell_type": "markdown",
      "metadata": {
        "id": "O8jCBs77NuXE"
      },
      "source": [
        "We can also specify a step size. This again has the same behavior as a slice."
      ]
    },
    {
      "cell_type": "code",
      "metadata": {
        "scrolled": true,
        "colab": {
          "base_uri": "https://localhost:8080/"
        },
        "id": "7Uc7iAzzNuXF",
        "outputId": "7bd5d7a4-47ba-47c5-c48a-91f44a032504"
      },
      "source": [
        "a = 0\n",
        "b = 10\n",
        "step = 2\n",
        "my_list = range(a, b, step)\n",
        "print my_list"
      ],
      "execution_count": null,
      "outputs": [
        {
          "output_type": "stream",
          "text": [
            "range(0, 10, 2)\n"
          ],
          "name": "stdout"
        }
      ]
    },
    {
      "cell_type": "markdown",
      "metadata": {
        "id": "yFVZfQ1Vo0Gg"
      },
      "source": [
        "**MI EJEMPLO**"
      ]
    },
    {
      "cell_type": "code",
      "metadata": {
        "colab": {
          "base_uri": "https://localhost:8080/"
        },
        "id": "NQx471d1ozaE",
        "outputId": "be7fe5dd-d7db-4921-d902-05510f7ebe8e"
      },
      "source": [
        "a = 20\r\n",
        "b = 10\r\n",
        "step = 5\r\n",
        "MiLista4 = range(a,b,step)\r\n",
        "print(MiLista4)"
      ],
      "execution_count": null,
      "outputs": [
        {
          "output_type": "stream",
          "text": [
            "range(20, 10, 5)\n"
          ],
          "name": "stdout"
        }
      ]
    },
    {
      "cell_type": "markdown",
      "metadata": {
        "id": "mkuMGw51NuXF"
      },
      "source": [
        "### Tuples\n",
        "\n",
        "A `tuple` is a data type similar to a list in that it can hold different kinds of data types. The key difference here is that a `tuple` is immutable. We define a `tuple` by separating the elements we want to include by commas. It is conventional to surround a `tuple` with parentheses."
      ]
    },
    {
      "cell_type": "code",
      "metadata": {
        "id": "32eLLtCWNuXI"
      },
      "source": [
        "my_tuple = 'I', 'have', 30, 'cats'\n",
        "print my_tuple"
      ],
      "execution_count": null,
      "outputs": []
    },
    {
      "cell_type": "markdown",
      "metadata": {
        "id": "pyBjfrBIpStz"
      },
      "source": [
        "**MI EJEMPLO**"
      ]
    },
    {
      "cell_type": "code",
      "metadata": {
        "colab": {
          "base_uri": "https://localhost:8080/"
        },
        "id": "5MQhWplDNuXJ",
        "outputId": "d0786797-2f57-4ec0-d462-25120b4c9da1"
      },
      "source": [
        "tupla1 = ('Yo', 'tengo', 10, 'manzanas')\n",
        "print(tupla1) "
      ],
      "execution_count": null,
      "outputs": [
        {
          "output_type": "stream",
          "text": [
            "('Yo', 'tengo', 10, 'manzanas')\n"
          ],
          "name": "stdout"
        }
      ]
    },
    {
      "cell_type": "markdown",
      "metadata": {
        "id": "e_m8mIj-NuXJ"
      },
      "source": [
        "As mentioned before, tuples are immutable. You can't change any part of them without defining a new tuple."
      ]
    },
    {
      "cell_type": "code",
      "metadata": {
        "id": "ee6oLJCVNuXK"
      },
      "source": [
        "my_tuple[3] = 'dogs' # Attempts to change the 'cats' value stored in the the tuple to 'dogs'"
      ],
      "execution_count": null,
      "outputs": []
    },
    {
      "cell_type": "markdown",
      "metadata": {
        "id": "kATLfcj2pkHJ"
      },
      "source": [
        "**MI EJEMPLO**"
      ]
    },
    {
      "cell_type": "code",
      "metadata": {
        "id": "seWvN9sbpj4I"
      },
      "source": [
        "tupla1[3] = \"peras\""
      ],
      "execution_count": null,
      "outputs": []
    },
    {
      "cell_type": "markdown",
      "metadata": {
        "id": "5sTkVAllNuXL"
      },
      "source": [
        "You can slice tuples the same way that you slice lists!"
      ]
    },
    {
      "cell_type": "code",
      "metadata": {
        "id": "YrGEu0p-NuXL"
      },
      "source": [
        "print my_tuple[1:3]"
      ],
      "execution_count": null,
      "outputs": []
    },
    {
      "cell_type": "markdown",
      "metadata": {
        "id": "JHiqRNBCpyaM"
      },
      "source": [
        "**MI EJEMPLO**"
      ]
    },
    {
      "cell_type": "code",
      "metadata": {
        "colab": {
          "base_uri": "https://localhost:8080/"
        },
        "id": "We51826BpyL3",
        "outputId": "8825dacc-c666-45c6-af02-21e8a08d59e0"
      },
      "source": [
        "print(tupla1[1:2])"
      ],
      "execution_count": null,
      "outputs": [
        {
          "output_type": "stream",
          "text": [
            "('tengo',)\n"
          ],
          "name": "stdout"
        }
      ]
    },
    {
      "cell_type": "markdown",
      "metadata": {
        "id": "3eEd-XzcNuXM"
      },
      "source": [
        "And concatenate them the way that you would with strings!"
      ]
    },
    {
      "cell_type": "code",
      "metadata": {
        "id": "pEyjdE2dNuXN"
      },
      "source": [
        "my_other_tuple = ('make', 'that', 50)\n",
        "print my_tuple + my_other_tuple"
      ],
      "execution_count": null,
      "outputs": []
    },
    {
      "cell_type": "markdown",
      "metadata": {
        "id": "JrURqRYep8Uw"
      },
      "source": [
        "**MI EJEMPLO**"
      ]
    },
    {
      "cell_type": "code",
      "metadata": {
        "colab": {
          "base_uri": "https://localhost:8080/"
        },
        "id": "E-_eQ7w9p8F6",
        "outputId": "91ea1da0-3b81-4d24-876d-b5a4bb29b85e"
      },
      "source": [
        "tupla2 = (\"Tengo\",\"3\",\"perros\")\r\n",
        "print(tupla1+tupla2)"
      ],
      "execution_count": null,
      "outputs": [
        {
          "output_type": "stream",
          "text": [
            "('Yo', 'tengo', 10, 'manzanas', 'Tengo', '3', 'perros')\n"
          ],
          "name": "stdout"
        }
      ]
    },
    {
      "cell_type": "markdown",
      "metadata": {
        "id": "eErfw49uNuXO"
      },
      "source": [
        "We can 'pack' values together, creating a tuple (as above), or we can 'unpack' values from a tuple, taking them out."
      ]
    },
    {
      "cell_type": "code",
      "metadata": {
        "id": "G61ArK7sNuXP"
      },
      "source": [
        "str_1, str_2, int_1 = my_other_tuple\n",
        "print str_1, str_2, int_1"
      ],
      "execution_count": null,
      "outputs": []
    },
    {
      "cell_type": "markdown",
      "metadata": {
        "id": "J1U5rFrjNuXP"
      },
      "source": [
        "Unpacking assigns each value of the tuple in order to each variable on the left hand side of the equals sign. Some functions, including user-defined functions, may return tuples, so we can use this to directly unpack them and access the values that we want."
      ]
    },
    {
      "cell_type": "markdown",
      "metadata": {
        "id": "0ASliuEaNuXQ"
      },
      "source": [
        "### Sets\n",
        "\n",
        "A `set` is a collection of unordered, unique elements. It works almost exactly as you would expect a normal set of things in mathematics to work and is defined using braces (`{}`)."
      ]
    },
    {
      "cell_type": "code",
      "metadata": {
        "id": "qdPqkBubNuXR"
      },
      "source": [
        "things_i_like = {'dogs', 7, 'the number 4', 4, 4, 4, 42, 'lizards', 'man I just LOVE the number 4'}\n",
        "print things_i_like, type(things_i_like)"
      ],
      "execution_count": null,
      "outputs": []
    },
    {
      "cell_type": "markdown",
      "metadata": {
        "id": "BAI65KOuyhIU"
      },
      "source": [
        "**MI EJEMPLO**"
      ]
    },
    {
      "cell_type": "code",
      "metadata": {
        "id": "eHPFeh3Syg6H"
      },
      "source": [
        "conjunto_de_animales = {\"perros\", \"gatos\", \"caballos\", \"vacas\", \"gatos\",25,25, 34, 37, 34}\r\n",
        "print(conjunto_de_animales)"
      ],
      "execution_count": null,
      "outputs": []
    },
    {
      "cell_type": "markdown",
      "metadata": {
        "id": "c39-g44ANuXR"
      },
      "source": [
        "Note how any extra instances of the same item are removed in the final set. We can also create a `set` from a list, using the `set()` function."
      ]
    },
    {
      "cell_type": "code",
      "metadata": {
        "id": "5fEQlI0ANuXS"
      },
      "source": [
        "animal_list = ['cats', 'dogs', 'dogs', 'dogs', 'lizards', 'sponges', 'cows', 'bats', 'sponges']\n",
        "animal_set = set(animal_list)\n",
        "print animal_set # Removes all extra instances from the list"
      ],
      "execution_count": null,
      "outputs": []
    },
    {
      "cell_type": "markdown",
      "metadata": {
        "id": "i2ZJahJMy6gv"
      },
      "source": [
        "**MI EJEMPLO**"
      ]
    },
    {
      "cell_type": "code",
      "metadata": {
        "id": "NBetS6qAy6Sq"
      },
      "source": [
        "lista_animales = [\"perros\", \"perros\", \"gatos\", \"caballos\", \"lagartos\", \"caballos\"]\r\n",
        "conjunto_animales = set(lista_animales)\r\n",
        "print(conjunto_animales)"
      ],
      "execution_count": null,
      "outputs": []
    },
    {
      "cell_type": "markdown",
      "metadata": {
        "id": "W5zPAZ-0NuXS"
      },
      "source": [
        "Calling `len()` on a set will tell you how many elements are in it."
      ]
    },
    {
      "cell_type": "code",
      "metadata": {
        "id": "jHmjmh5eNuXT"
      },
      "source": [
        "print len(animal_set)"
      ],
      "execution_count": null,
      "outputs": []
    },
    {
      "cell_type": "markdown",
      "metadata": {
        "id": "uglFI0SpzaXS"
      },
      "source": [
        "**MI EJEMPLO**"
      ]
    },
    {
      "cell_type": "code",
      "metadata": {
        "id": "6-CU-KM5zaI7"
      },
      "source": [
        "print(len(lista_animales))"
      ],
      "execution_count": null,
      "outputs": []
    },
    {
      "cell_type": "markdown",
      "metadata": {
        "id": "gUWq0Bc-NuXU"
      },
      "source": [
        "Because a `set` is unordered, we can't access individual elements using an index. We can, however, easily check for membership (to see if something is contained in a set) and take the unions and intersections of sets by using the built-in set functions."
      ]
    },
    {
      "cell_type": "code",
      "metadata": {
        "id": "ZUNUPaQDNuXU"
      },
      "source": [
        "'cats' in animal_set # Here we check for membership using the `in` keyword."
      ],
      "execution_count": null,
      "outputs": []
    },
    {
      "cell_type": "markdown",
      "metadata": {
        "id": "CL9HM57nzhkE"
      },
      "source": [
        "**MI EJEMPLO**"
      ]
    },
    {
      "cell_type": "code",
      "metadata": {
        "id": "JwXTvWchzhZg"
      },
      "source": [
        "\"lagartos\" in conjunto_animales"
      ],
      "execution_count": null,
      "outputs": []
    },
    {
      "cell_type": "markdown",
      "metadata": {
        "id": "LRviHEbGNuXV"
      },
      "source": [
        "Here we checked to see whether the string 'cats' was contained within our `animal_set` and it returned `True`, telling us that it is indeed in our set.\n",
        "\n",
        "We can connect sets by using typical mathematical set operators, namely `|`, for union, and `&`, for intersection. Using `|` or `&` will return exactly what you would expect if you are familiar with sets in mathematics."
      ]
    },
    {
      "cell_type": "code",
      "metadata": {
        "id": "Jg2UPX4sNuXV"
      },
      "source": [
        "print animal_set | things_i_like # You can also write things_i_like | animal_set with no difference"
      ],
      "execution_count": null,
      "outputs": []
    },
    {
      "cell_type": "markdown",
      "metadata": {
        "id": "slbaM6wGzvOp"
      },
      "source": [
        "**MI EJEMPLO**"
      ]
    },
    {
      "cell_type": "code",
      "metadata": {
        "id": "g6zAeUgizvEy"
      },
      "source": [
        "conjunto_animales|conjunto_de_animales"
      ],
      "execution_count": null,
      "outputs": []
    },
    {
      "cell_type": "markdown",
      "metadata": {
        "id": "k7bscr5mNuXY"
      },
      "source": [
        "Pairing two sets together with `|` combines the sets, removing any repetitions to make every set element unique."
      ]
    },
    {
      "cell_type": "code",
      "metadata": {
        "id": "bNT_Xm-fNuXZ"
      },
      "source": [
        "print animal_set & things_i_like # You can also write things_i_like & animal_set with no difference"
      ],
      "execution_count": null,
      "outputs": []
    },
    {
      "cell_type": "markdown",
      "metadata": {
        "id": "0_s0BG_Rz_wn"
      },
      "source": [
        "**MI EJEMPLO**"
      ]
    },
    {
      "cell_type": "code",
      "metadata": {
        "colab": {
          "base_uri": "https://localhost:8080/"
        },
        "id": "zlhdGOntz_m4",
        "outputId": "229fbabc-576a-4d9a-a5a0-858e930be45c"
      },
      "source": [
        "conjunto_animales&conjunto_de_animales"
      ],
      "execution_count": null,
      "outputs": [
        {
          "output_type": "execute_result",
          "data": {
            "text/plain": [
              "{'caballos', 'gatos', 'perros'}"
            ]
          },
          "metadata": {
            "tags": []
          },
          "execution_count": 61
        }
      ]
    },
    {
      "cell_type": "markdown",
      "metadata": {
        "id": "ZoAvH7ylNuXa"
      },
      "source": [
        "Pairing two sets together with `&` will calculate the intersection of both sets, returning a set that only contains what they have in common.\n",
        "\n",
        "If you are interested in learning more about the built-in functions for sets, feel free to check out the [documentation](https://docs.python.org/2/library/sets.html)."
      ]
    },
    {
      "cell_type": "markdown",
      "metadata": {
        "id": "Ibuy05bmNuXa"
      },
      "source": [
        "### Dictionaries\n",
        "\n",
        "Another essential data structure in Python is the dictionary. Dictionaries are defined with a combination of curly braces (`{}`) and colons (`:`). The braces define the beginning and end of a dictionary and the colons indicate key-value pairs. A dictionary is essentially a set of key-value pairs. The key of any entry must be an immutable data type. This makes both strings and tuples candidates. Keys can be both added and deleted.\n",
        "\n",
        "In the following example, we have a dictionary composed of key-value pairs where the key is a genre of fiction (`string`) and the value is a list of books (`list`) within that genre. Since a collection is still considered a single entity, we can use one to collect multiple variables or values into one key-value pair."
      ]
    },
    {
      "cell_type": "code",
      "metadata": {
        "id": "yfniLAYQNuXb"
      },
      "source": [
        "my_dict = {\"High Fantasy\": [\"Wheel of Time\", \"Lord of the Rings\"], \n",
        "           \"Sci-fi\": [\"Book of the New Sun\", \"Neuromancer\", \"Snow Crash\"],\n",
        "           \"Weird Fiction\": [\"At the Mountains of Madness\", \"The House on the Borderland\"]}"
      ],
      "execution_count": null,
      "outputs": []
    },
    {
      "cell_type": "markdown",
      "metadata": {
        "id": "vBIj_glr05w-"
      },
      "source": [
        "**MI EJEMPLO**"
      ]
    },
    {
      "cell_type": "code",
      "metadata": {
        "id": "o-11_hfB05jk"
      },
      "source": [
        "diccionario = {\"Cuadrupedos\":[\"perros\",\"gatos\",\"caballo\"],\r\n",
        "               \"Bípedos\": [\"Gallinas\",\"Avestruces\"]\r\n",
        "              }"
      ],
      "execution_count": null,
      "outputs": []
    },
    {
      "cell_type": "markdown",
      "metadata": {
        "id": "ncqLY7oANuXb"
      },
      "source": [
        "After defining a dictionary, we can access any individual value by indicating its key in brackets."
      ]
    },
    {
      "cell_type": "code",
      "metadata": {
        "id": "o0luPNY3NuXc"
      },
      "source": [
        "print(my_dict[\"Sci-fi\"])"
      ],
      "execution_count": null,
      "outputs": []
    },
    {
      "cell_type": "markdown",
      "metadata": {
        "id": "NNzjtf_H1S-C"
      },
      "source": [
        "**MI EJEMPLO**"
      ]
    },
    {
      "cell_type": "code",
      "metadata": {
        "colab": {
          "base_uri": "https://localhost:8080/"
        },
        "id": "zrvxhAXY1Svg",
        "outputId": "cece18a1-2d77-4339-b516-9e2228fd6fce"
      },
      "source": [
        "print(diccionario[\"Cuadrupedos\"])"
      ],
      "execution_count": null,
      "outputs": [
        {
          "output_type": "stream",
          "text": [
            "['perros', 'gatos', 'caballo']\n"
          ],
          "name": "stdout"
        }
      ]
    },
    {
      "cell_type": "markdown",
      "metadata": {
        "id": "3HD0X4XtNuXd"
      },
      "source": [
        "We can also change the value associated with a given key"
      ]
    },
    {
      "cell_type": "code",
      "metadata": {
        "id": "Edv91TjINuXd"
      },
      "source": [
        "my_dict[\"Sci-fi\"] = \"I can't read\"\n",
        "print(my_dict[\"Sci-fi\"]) "
      ],
      "execution_count": null,
      "outputs": []
    },
    {
      "cell_type": "markdown",
      "metadata": {
        "id": "pO6ddIyj1wJW"
      },
      "source": [
        ""
      ]
    },
    {
      "cell_type": "code",
      "metadata": {
        "colab": {
          "base_uri": "https://localhost:8080/"
        },
        "id": "744NBjvB1v4Q",
        "outputId": "9021c723-e90a-42ad-bde1-2f7219cf1982"
      },
      "source": [
        "diccionario[\"Cuadrupedos\"] = \"Mamiferos\"\r\n",
        "print(diccionario[\"Cuadrupedos\"])"
      ],
      "execution_count": null,
      "outputs": [
        {
          "output_type": "stream",
          "text": [
            "Mamiferos\n"
          ],
          "name": "stdout"
        }
      ]
    },
    {
      "cell_type": "markdown",
      "metadata": {
        "id": "iBKGnkf_NuXe"
      },
      "source": [
        "Adding a new key-value pair is as simple as defining it."
      ]
    },
    {
      "cell_type": "code",
      "metadata": {
        "colab": {
          "base_uri": "https://localhost:8080/"
        },
        "id": "NOLC4NZtNuXf",
        "outputId": "cfb18653-b4db-4e0e-8d5c-e51efa1a209f"
      },
      "source": [
        "my_dict[\"Historical Fiction\"] = [\"Pillars of the Earth\"]\n",
        "print( my_dict[\"Historical Fiction\"])"
      ],
      "execution_count": null,
      "outputs": [
        {
          "output_type": "stream",
          "text": [
            "['Pillars of the Earth']\n"
          ],
          "name": "stdout"
        }
      ]
    },
    {
      "cell_type": "code",
      "metadata": {
        "id": "RAxWAUWmNuXf"
      },
      "source": [
        "print(my_dict)"
      ],
      "execution_count": null,
      "outputs": []
    },
    {
      "cell_type": "markdown",
      "metadata": {
        "id": "oIh0wNpU2KeY"
      },
      "source": [
        "**MI EJEMPLO**"
      ]
    },
    {
      "cell_type": "code",
      "metadata": {
        "colab": {
          "base_uri": "https://localhost:8080/"
        },
        "id": "FStDNBky2KLR",
        "outputId": "4dc536f5-3cc1-4c3b-ff3a-4d7aeeed4c37"
      },
      "source": [
        "diccionario[\"Bípedos\"]=[\"Pájaro\"]\r\n",
        "print(diccionario[\"Bípedos\"])"
      ],
      "execution_count": null,
      "outputs": [
        {
          "output_type": "stream",
          "text": [
            "['Pájaro']\n"
          ],
          "name": "stdout"
        }
      ]
    },
    {
      "cell_type": "markdown",
      "metadata": {
        "id": "Gl0fEOj7NuXg"
      },
      "source": [
        "## String Shenanigans\n",
        "\n",
        "We already know that strings are generally used for text. We can used built-in operations to combine, split, and format strings easily, depending on our needs.\n",
        "\n",
        "The `+` symbol indicates concatenation in string language. It will combine two strings into a longer string."
      ]
    },
    {
      "cell_type": "code",
      "metadata": {
        "id": "5lLAFTJwNuXh"
      },
      "source": [
        "first_string = '\"Beware the Jabberwock, my son! /The jaws that bite, the claws that catch! /'\n",
        "second_string = 'Beware the Jubjub bird, and shun /The frumious Bandersnatch!\"/'\n",
        "third_string = first_string + second_string\n",
        "print third_string"
      ],
      "execution_count": null,
      "outputs": []
    },
    {
      "cell_type": "markdown",
      "metadata": {
        "id": "jp6j3W6o4Ctd"
      },
      "source": [
        "**MI EJEMPLO**"
      ]
    },
    {
      "cell_type": "code",
      "metadata": {
        "colab": {
          "base_uri": "https://localhost:8080/"
        },
        "id": "_Ajlu29x4Cfr",
        "outputId": "310a78b0-df11-489c-865f-29bee8f026c9"
      },
      "source": [
        "string1=\"Hola,\"\r\n",
        "string2=\" buenos días\"\r\n",
        "string3=string1+string2\r\n",
        "print(string3)"
      ],
      "execution_count": null,
      "outputs": [
        {
          "output_type": "stream",
          "text": [
            "Hola, buenos días\n"
          ],
          "name": "stdout"
        }
      ]
    },
    {
      "cell_type": "markdown",
      "metadata": {
        "id": "C2h4Rdk_NuXh"
      },
      "source": [
        "Strings are also indexed much in the same way that lists are."
      ]
    },
    {
      "cell_type": "code",
      "metadata": {
        "id": "125lmnY7NuXi"
      },
      "source": [
        "my_string = 'Supercalifragilisticexpialidocious'\n",
        "print 'The first letter is: ', my_string[0] # Uppercase S\n",
        "print 'The last letter is: ', my_string[-1] # lowercase s\n",
        "print 'The second to last letter is: ', my_string[-2] # lowercase u\n",
        "print 'The first five characters are: ', my_string[0:5] # Remember: slicing doesn't include the final element!\n",
        "print 'Reverse it!: ', my_string[::-1]"
      ],
      "execution_count": null,
      "outputs": []
    },
    {
      "cell_type": "markdown",
      "metadata": {
        "id": "DgsbTKcM4hr-"
      },
      "source": [
        "**MI EJEMPLO**"
      ]
    },
    {
      "cell_type": "code",
      "metadata": {
        "colab": {
          "base_uri": "https://localhost:8080/"
        },
        "id": "S0kANppT4hao",
        "outputId": "b5ef6584-f5fd-42bd-ef7c-fdafcb135cf4"
      },
      "source": [
        "primer_string = \"Muybuenosdiasatodos\"\r\n",
        "print(\"La primera letra es: \", primer_string[0])\r\n",
        "print(\"La última letra es: \", primer_string[-1])\r\n",
        "print(\"La penúltima letra es: \", primer_string[-2])\r\n",
        "print(\"Las primeras cinco letras son: \", primer_string[0:5])\r\n",
        "print(\"La palabra al revés es: \", primer_string[::-1])"
      ],
      "execution_count": null,
      "outputs": [
        {
          "output_type": "stream",
          "text": [
            "La primera letra es:  M\n",
            "La última letra es:  s\n",
            "La penúltima letra es:  o\n",
            "Las primeras cinco letras son:  Muybu\n",
            "La palabra al revés es:  sodotasaidsoneubyuM\n"
          ],
          "name": "stdout"
        }
      ]
    },
    {
      "cell_type": "markdown",
      "metadata": {
        "id": "4_aD3114NuXj"
      },
      "source": [
        "Built-in objects and classes often have special functions associated with them that are called methods. We access these methods by using a period ('.'). We will cover objects and their associated methods more in another lecture!\n",
        "\n",
        "Using string methods we can count instances of a character or group of characters."
      ]
    },
    {
      "cell_type": "code",
      "metadata": {
        "scrolled": true,
        "id": "uQv5zhTwNuXj"
      },
      "source": [
        "print 'Count of the letter i in Supercalifragilisticexpialidocious: ', my_string.count('i')\n",
        "print 'Count of \"li\" in the same word: ', my_string.count('li')"
      ],
      "execution_count": null,
      "outputs": []
    },
    {
      "cell_type": "markdown",
      "metadata": {
        "id": "DiMNLDwi5l07"
      },
      "source": [
        "**MI EJEMPLO**"
      ]
    },
    {
      "cell_type": "code",
      "metadata": {
        "colab": {
          "base_uri": "https://localhost:8080/"
        },
        "id": "DroGy1Uk5lkO",
        "outputId": "880cdb1b-d975-4852-a803-1d25c0364110"
      },
      "source": [
        "print(\"Contador de la letra o en Muybuenosdiasatodos: \", primer_string.count(\"o\") )"
      ],
      "execution_count": null,
      "outputs": [
        {
          "output_type": "stream",
          "text": [
            "Contador de la letra o en Muybuenosdiasatodos 3\n"
          ],
          "name": "stdout"
        }
      ]
    },
    {
      "cell_type": "markdown",
      "metadata": {
        "id": "NAxiestANuXk"
      },
      "source": [
        "We can also find the first instance of a character or group of characters in a string."
      ]
    },
    {
      "cell_type": "code",
      "metadata": {
        "id": "vqwsE4iNNuXl"
      },
      "source": [
        "print 'The first time i appears is at index: ', my_string.find('i')"
      ],
      "execution_count": null,
      "outputs": []
    },
    {
      "cell_type": "markdown",
      "metadata": {
        "id": "bqpOKeDs6ENW"
      },
      "source": [
        "**MI EJEMPLO**"
      ]
    },
    {
      "cell_type": "code",
      "metadata": {
        "colab": {
          "base_uri": "https://localhost:8080/"
        },
        "id": "2NugyXRt6EAB",
        "outputId": "0f8de3a7-b1ca-4ba5-f3bd-efaf9589b04e"
      },
      "source": [
        "print(\"La primera vez que la letra o aparece es en la posición: \", primer_string.find(\"o\"))"
      ],
      "execution_count": null,
      "outputs": [
        {
          "output_type": "stream",
          "text": [
            "La primera vez que la letra o aparece es en la posición:  7\n"
          ],
          "name": "stdout"
        }
      ]
    },
    {
      "cell_type": "markdown",
      "metadata": {
        "id": "GYmhq8DrNuXl"
      },
      "source": [
        "As well as replace characters in a string."
      ]
    },
    {
      "cell_type": "code",
      "metadata": {
        "id": "ol7cEWrtNuXm"
      },
      "source": [
        "print \"All i's are now a's: \", my_string.replace('i', 'a')"
      ],
      "execution_count": null,
      "outputs": []
    },
    {
      "cell_type": "markdown",
      "metadata": {
        "id": "oaEXrIEa6W0j"
      },
      "source": [
        "**MI EJEMPLO**"
      ]
    },
    {
      "cell_type": "code",
      "metadata": {
        "colab": {
          "base_uri": "https://localhost:8080/"
        },
        "id": "yUVEnXgk6WlK",
        "outputId": "0cfabb46-be9f-4b5a-ffd5-f0f799b04c96"
      },
      "source": [
        "print(\"Ahora todas las o en la palabra son i: \", primer_string.replace(\"o\",\"i\"))"
      ],
      "execution_count": null,
      "outputs": [
        {
          "output_type": "stream",
          "text": [
            "Ahora todas las o en la palabra son i:  Muybuenisdiasatidis\n"
          ],
          "name": "stdout"
        }
      ]
    },
    {
      "cell_type": "code",
      "metadata": {
        "id": "JolhyI68NuXm"
      },
      "source": [
        "print \"It's raining cats and dogs\".replace('dogs', 'more cats')"
      ],
      "execution_count": null,
      "outputs": []
    },
    {
      "cell_type": "markdown",
      "metadata": {
        "id": "SDUW3sTe6sXp"
      },
      "source": [
        "**MI EJEMPLO**"
      ]
    },
    {
      "cell_type": "code",
      "metadata": {
        "colab": {
          "base_uri": "https://localhost:8080/"
        },
        "id": "GJM0JAJm6sET",
        "outputId": "1a6d8363-c5d9-4d82-dae2-e10c4a8d8329"
      },
      "source": [
        "print(\"Está lloviendo mucho\".replace(\"mucho\",\"poco\"))"
      ],
      "execution_count": null,
      "outputs": [
        {
          "output_type": "stream",
          "text": [
            "Está lloviendo poco\n"
          ],
          "name": "stdout"
        }
      ]
    },
    {
      "cell_type": "markdown",
      "metadata": {
        "id": "Yk_hbTbVNuXq"
      },
      "source": [
        "There are also some methods that are unique to strings. The function `upper()` will convert all characters in a string to uppercase, while `lower()` will convert all characters in a string to lowercase!"
      ]
    },
    {
      "cell_type": "code",
      "metadata": {
        "id": "qiWqBiI5NuXr"
      },
      "source": [
        "my_string = \"I can't hear you\"\n",
        "print my_string.upper()\n",
        "my_string = \"I said HELLO\"\n",
        "print my_string.lower()"
      ],
      "execution_count": null,
      "outputs": []
    },
    {
      "cell_type": "markdown",
      "metadata": {
        "id": "sc0A8WIl62d_"
      },
      "source": [
        "**MI EJEMPLO**"
      ]
    },
    {
      "cell_type": "code",
      "metadata": {
        "colab": {
          "base_uri": "https://localhost:8080/"
        },
        "id": "mcsedKLJ62Kz",
        "outputId": "319feae2-047c-422a-cd99-45460f59c62a"
      },
      "source": [
        "print(primer_string.upper())"
      ],
      "execution_count": null,
      "outputs": [
        {
          "output_type": "stream",
          "text": [
            "MUYBUENOSDIASATODOS\n"
          ],
          "name": "stdout"
        }
      ]
    },
    {
      "cell_type": "markdown",
      "metadata": {
        "id": "06GDo6ILNuXs"
      },
      "source": [
        "### String Formatting\n",
        "\n",
        "Using the `format()` method we can add in variable values and generally format our strings."
      ]
    },
    {
      "cell_type": "code",
      "metadata": {
        "id": "fadbTkgMNuXt"
      },
      "source": [
        "my_string = \"{0} {1}\".format('Marco', 'Polo')\n",
        "print my_string"
      ],
      "execution_count": null,
      "outputs": []
    },
    {
      "cell_type": "code",
      "metadata": {
        "id": "5qTxfwvENuXu"
      },
      "source": [
        "my_string = \"{1} {0}\".format('Marco', 'Polo')\n",
        "print my_string"
      ],
      "execution_count": null,
      "outputs": []
    },
    {
      "cell_type": "markdown",
      "metadata": {
        "id": "Xj2ULejdNuXv"
      },
      "source": [
        "We use braces (`{}`) to indicate parts of the string that will be filled in later and we use the arguments of the `format()` function to provide the values to substitute. The numbers within the braces indicate the index of the value in the `format()` arguments."
      ]
    },
    {
      "cell_type": "markdown",
      "metadata": {
        "id": "LO5YiVsWNuXv"
      },
      "source": [
        "See the `format()` [documentation](https://docs.python.org/2/library/string.html#format-examples) for additional examples."
      ]
    },
    {
      "cell_type": "markdown",
      "metadata": {
        "id": "pd73_bcaNuXw"
      },
      "source": [
        "If you need some quick and dirty formatting, you can instead use the `%` symbol, called the string formatting operator. "
      ]
    },
    {
      "cell_type": "code",
      "metadata": {
        "id": "mDH-Lm2NNuXx"
      },
      "source": [
        "print 'insert %s here' % 'value'"
      ],
      "execution_count": null,
      "outputs": []
    },
    {
      "cell_type": "markdown",
      "metadata": {
        "id": "OpALhJ94NuXx"
      },
      "source": [
        "The `%` symbol basically cues Python to create a placeholder. Whatever character follows the `%` (in the string) indicates what sort of type the value put into the placeholder will have. This character is called a *conversion type*. Once the string has been closed, we need another `%` that will be followed by the values to insert. In the case of one value, you can just put it there. If you are inserting more than one value, they must be enclosed in a tuple."
      ]
    },
    {
      "cell_type": "code",
      "metadata": {
        "id": "BV3dx-9nNuXy"
      },
      "source": [
        "print 'There are %s cats in my %s' % (13, 'apartment')"
      ],
      "execution_count": null,
      "outputs": []
    },
    {
      "cell_type": "markdown",
      "metadata": {
        "id": "bUGGBznUNuXy"
      },
      "source": [
        "In these examples, the `%s` indicates that Python should convert the values into strings. There are multiple conversion types that you can use to get more specific with the the formatting. See the string formatting [documentation](https://docs.python.org/2/library/stdtypes.html#string-formatting) for additional examples and more complete details on use."
      ]
    },
    {
      "cell_type": "markdown",
      "metadata": {
        "id": "NSlJxNf8NuXz"
      },
      "source": [
        "## Logical Operators\n",
        "### Basic Logic\n",
        "\n",
        "Logical operators deal with `boolean` values, as we briefly covered before. If you recall, a `bool` takes on one of two values, `True` or `False` (or $1$ or $0$). The basic logical statements that we can make are defined using the built-in comparators. These are `==` (equal), `!=` (not equal), `<` (less than), `>` (greater than), `<=` (less than or equal to), and `>=` (greater than or equal to)."
      ]
    },
    {
      "cell_type": "code",
      "metadata": {
        "id": "we3PlHPNNuX2"
      },
      "source": [
        "print 5 == 5"
      ],
      "execution_count": null,
      "outputs": []
    },
    {
      "cell_type": "code",
      "metadata": {
        "id": "-bkEpFj3NuX3"
      },
      "source": [
        "print 5 > 5"
      ],
      "execution_count": null,
      "outputs": []
    },
    {
      "cell_type": "markdown",
      "metadata": {
        "id": "Y-GgxsMsNuX3"
      },
      "source": [
        "These comparators also work in conjunction with variables."
      ]
    },
    {
      "cell_type": "code",
      "metadata": {
        "id": "g2xNO4odNuX6"
      },
      "source": [
        "m = 2\n",
        "n = 23\n",
        "print m < n"
      ],
      "execution_count": null,
      "outputs": []
    },
    {
      "cell_type": "markdown",
      "metadata": {
        "id": "5qvDHHOUNuX6"
      },
      "source": [
        "We can string these comparators together to make more complex logical statements using the logical operators `or`, `and`, and `not`. "
      ]
    },
    {
      "cell_type": "code",
      "metadata": {
        "id": "cvJsU-1KNuX7"
      },
      "source": [
        "statement_1 = 10 > 2\n",
        "statement_2 = 4 <= 6\n",
        "print \"Statement 1 truth value: {0}\".format(statement_1)\n",
        "print \"Statement 2 truth value: {0}\".format(statement_2)\n",
        "print \"Statement 1 and Statement 2: {0}\".format(statement_1 and statement_2)"
      ],
      "execution_count": null,
      "outputs": []
    },
    {
      "cell_type": "markdown",
      "metadata": {
        "id": "1VVLkKbLNuX8"
      },
      "source": [
        "The `or` operator performs a logical `or` calculation. This is an inclusive `or`, so if either component paired together by `or` is `True`, the whole statement will be `True`. The `and` statement only outputs `True` if all components that are `and`ed together are True. Otherwise it will output `False`. The `not` statement simply inverts the truth value of whichever statement follows it. So a `True` statement will be evaluated as `False` when a `not` is placed in front of it. Similarly, a `False` statement will become `True` when a `not` is in front of it.\n",
        "\n",
        "Say that we have two logical statements, or assertions, $P$ and $Q$. The truth table for the basic logical operators is as follows:\n",
        "\n",
        "|  P  |  Q  | `not` P| P `and` Q | P `or` Q|\n",
        "|:-----:|:-----:|:---:|:---:|:---:|\n",
        "| `True` | `True` | `False` | `True` | `True` |\n",
        "| `False` | `True` | `True` | `False` | `True` |\n",
        "| `True` | `False` | `False` | `False` | `True` |\n",
        "| `False` | `False` | `True` | `False` | `False` |\n",
        "\n",
        "We can string multiple logical statements together using the logical operators."
      ]
    },
    {
      "cell_type": "code",
      "metadata": {
        "id": "kz-2K2oFNuX8"
      },
      "source": [
        "print ((2 < 3) and (3 > 0)) or ((5 > 6) and not (4 < 2))"
      ],
      "execution_count": null,
      "outputs": []
    },
    {
      "cell_type": "markdown",
      "metadata": {
        "id": "fCaAAMn8NuX9"
      },
      "source": [
        "Logical statements can be as simple or complex as we like, depending on what we need to express. Evaluating the above logical statement step by step we see that we are evaluating (`True and True`) `or` (`False and not False`). This becomes `True or (False and True`), subsequently becoming `True or False`, ultimately being evaluated as `True`."
      ]
    },
    {
      "cell_type": "markdown",
      "metadata": {
        "id": "Ry7Pt2RtNuX-"
      },
      "source": [
        "#### Truthiness\n",
        "\n",
        "Data types in Python have a fun characteristic called truthiness. What this means is that most built-in types will evaluate as either `True` or `False` when a boolean value is needed (such as with an if-statement). As a general rule, containers like strings, tuples, dictionaries, lists, and sets, will return `True` if they contain anything at all and `False` if they contain nothing."
      ]
    },
    {
      "cell_type": "code",
      "metadata": {
        "id": "lB63tYFNNuX-"
      },
      "source": [
        "# Similar to how float() and int() work, bool() forces a value to be considered a boolean!\n",
        "print bool('')"
      ],
      "execution_count": null,
      "outputs": []
    },
    {
      "cell_type": "code",
      "metadata": {
        "id": "3rw3NP2hNuX_"
      },
      "source": [
        "print bool('I have character!')"
      ],
      "execution_count": null,
      "outputs": []
    },
    {
      "cell_type": "code",
      "metadata": {
        "id": "z5g25M8ENuYA"
      },
      "source": [
        "print bool([])"
      ],
      "execution_count": null,
      "outputs": []
    },
    {
      "cell_type": "code",
      "metadata": {
        "id": "HhsiLC-rNuYB"
      },
      "source": [
        "print bool([1, 2, 3])"
      ],
      "execution_count": null,
      "outputs": []
    },
    {
      "cell_type": "markdown",
      "metadata": {
        "id": "VO4U4rLGNuYB"
      },
      "source": [
        "And so on, for the other collections and containers. `None` also evaluates as `False`. The number `1` is equivalent to `True` and the number `0` is equivalent to `False` as well, in a boolean context."
      ]
    },
    {
      "cell_type": "markdown",
      "metadata": {
        "id": "8Z2WkcgwNuYC"
      },
      "source": [
        "### If-statements\n",
        "\n",
        "We can create segments of code that only execute if a set of conditions is met. We use if-statements in conjunction with logical statements in order to create branches in our code. \n",
        "\n",
        "An `if` block gets entered when the condition is considered to be `True`. If condition is evaluated as `False`, the `if` block will simply be skipped unless there is an `else` block to accompany it. Conditions are made using either logical operators or by using the truthiness of values in Python. An if-statement is defined with a colon and a block of indented text."
      ]
    },
    {
      "cell_type": "code",
      "metadata": {
        "id": "fI98A5XjNuYD"
      },
      "source": [
        "# This is the basic format of an if statement. This is a vacuous example. \n",
        "# The string \"Condition\" will always evaluated as True because it is a\n",
        "# non-empty string. he purpose of this code is to show the formatting of\n",
        "# an if-statement.\n",
        "if \"Condition\": \n",
        "    # This block of code will execute because the string is non-empty\n",
        "    # Everything on these indented lines\n",
        "    print True\n",
        "else:\n",
        "    # So if the condition that we examined with if is in fact False\n",
        "    # This block of code will execute INSTEAD of the first block of code\n",
        "    # Everything on these indented lines\n",
        "    print False\n",
        "# The else block here will never execute because \"Condition\" is a non-empty string."
      ],
      "execution_count": null,
      "outputs": []
    },
    {
      "cell_type": "code",
      "metadata": {
        "id": "U_HdwXfaNuYD"
      },
      "source": [
        "i = 4\n",
        "if i == 5:\n",
        "    print 'The variable i has a value of 5'"
      ],
      "execution_count": null,
      "outputs": []
    },
    {
      "cell_type": "markdown",
      "metadata": {
        "id": "u6sVwJlGNuYE"
      },
      "source": [
        "Because in this example `i = 4` and the if-statement is only looking for whether `i` is equal to `5`, the print statement will never be executed. We can add in an `else` statement to create a contingency block of code in case the condition in the if-statement is not evaluated as `True`."
      ]
    },
    {
      "cell_type": "code",
      "metadata": {
        "id": "TDaGtXQUNuYE"
      },
      "source": [
        "i = 4\n",
        "if i == 5:\n",
        "    print \"All lines in this indented block are part of this block\"\n",
        "    print 'The variable i has a value of 5'\n",
        "else:\n",
        "    print \"All lines in this indented block are part of this block\"\n",
        "    print 'The variable i is not equal to 5'"
      ],
      "execution_count": null,
      "outputs": []
    },
    {
      "cell_type": "markdown",
      "metadata": {
        "id": "I6DNkAnKNuYG"
      },
      "source": [
        "We can implement other branches off of the same if-statement by using `elif`, an abbreviation of \"else if\". We can include as many `elifs` as we like until we have exhausted all the logical branches of a condition."
      ]
    },
    {
      "cell_type": "code",
      "metadata": {
        "id": "TrreaOXZNuYH"
      },
      "source": [
        "i = 1\n",
        "if i == 1:\n",
        "    print 'The variable i has a value of 1'\n",
        "elif i == 2:\n",
        "    print 'The variable i has a value of 2'\n",
        "elif i == 3:\n",
        "    print 'The variable i has a value of 3'\n",
        "else:\n",
        "    print \"I don't care what i is\""
      ],
      "execution_count": null,
      "outputs": []
    },
    {
      "cell_type": "markdown",
      "metadata": {
        "id": "ce87MKIeNuYI"
      },
      "source": [
        "You can also nest if-statements within if-statements to check for further conditions."
      ]
    },
    {
      "cell_type": "code",
      "metadata": {
        "id": "1eIbOlBGNuYK"
      },
      "source": [
        "i = 10\n",
        "if i % 2 == 0:\n",
        "    if i % 3 == 0:\n",
        "        print 'i is divisible by both 2 and 3! Wow!'\n",
        "    elif i % 5 == 0:\n",
        "        print 'i is divisible by both 2 and 5! Wow!'\n",
        "    else:\n",
        "        print 'i is divisible by 2, but not 3 or 5. Meh.'\n",
        "else:\n",
        "    print 'I guess that i is an odd number. Boring.'"
      ],
      "execution_count": null,
      "outputs": []
    },
    {
      "cell_type": "markdown",
      "metadata": {
        "id": "Gab7gGHiNuYL"
      },
      "source": [
        "Remember that we can group multiple conditions together by using the logical operators!"
      ]
    },
    {
      "cell_type": "code",
      "metadata": {
        "id": "rrPF2K-_NuYM"
      },
      "source": [
        "i = 5\n",
        "j = 12\n",
        "if i < 10 and j > 11:\n",
        "    print '{0} is less than 10 and {1} is greater than 11! How novel and interesting!'.format(i, j)"
      ],
      "execution_count": null,
      "outputs": []
    },
    {
      "cell_type": "markdown",
      "metadata": {
        "id": "24zCVIVhNuYM"
      },
      "source": [
        "You can use the logical comparators to compare strings!"
      ]
    },
    {
      "cell_type": "code",
      "metadata": {
        "id": "HKwp2hZSNuYN"
      },
      "source": [
        "my_string = \"Carthago delenda est\"\n",
        "if my_string == \"Carthago delenda est\":\n",
        "    print 'And so it was! For the glory of Rome!'\n",
        "else:\n",
        "    print 'War elephants are TERRIFYING. I am staying home.'"
      ],
      "execution_count": null,
      "outputs": []
    },
    {
      "cell_type": "markdown",
      "metadata": {
        "id": "Lh0u3cuSNuYO"
      },
      "source": [
        "As with other data types, `==` will check for whether the two things on either side of it have the same value. In this case, we compare whether the value of the strings are the same. Using `>` or `<` or any of the other comparators is not quite so intuitive, however, so we will stay from using comparators with strings in this lecture. Comparators will examine the [lexicographical order](https://en.wikipedia.org/wiki/Lexicographical_order) of the strings, which might be a bit more in-depth than you might like."
      ]
    },
    {
      "cell_type": "markdown",
      "metadata": {
        "id": "3QEjNnsfNuYO"
      },
      "source": [
        "Some built-in functions return a boolean value, so they can be used as conditions in an if-statement. User-defined functions can also be constructed so that they return a boolean value. This will be covered later with function definition!\n",
        "\n",
        "The `in` keyword is generally used to check membership of a value within another value. We can check memebership in the context of an if-statement and use it to output a truth value."
      ]
    },
    {
      "cell_type": "code",
      "metadata": {
        "id": "Xe2ka7uuNuYP"
      },
      "source": [
        "if 'a' in my_string or 'e' in my_string:\n",
        "    print 'Those are my favorite vowels!'"
      ],
      "execution_count": null,
      "outputs": []
    },
    {
      "cell_type": "markdown",
      "metadata": {
        "id": "sZX6GSW6NuYP"
      },
      "source": [
        "Here we use `in` to check whether the variable `my_string` contains any particular letters. We will later use `in` to iterate through lists!"
      ]
    },
    {
      "cell_type": "markdown",
      "metadata": {
        "id": "pW2_bbqiNuYQ"
      },
      "source": [
        "## Loop Structures\n",
        "\n",
        "Loop structures are one of the most important parts of programming. The `for` loop and the `while` loop provide a way to repeatedly run a block of code repeatedly. A `while` loop will iterate until a certain condition has been met. If at any point after an iteration that condition is no longer satisfied, the loop terminates. A `for` loop will iterate over a sequence of values and terminate when the sequence has ended. You can instead include conditions within the `for` loop to decide whether it should terminate early or you could simply let it run its course."
      ]
    },
    {
      "cell_type": "code",
      "metadata": {
        "id": "6kvGgJSwNuYR"
      },
      "source": [
        "i = 5\n",
        "while i > 0: # We can write this as 'while i:' because 0 is False!\n",
        "    i -= 1\n",
        "    print 'I am looping! {0} more to go!'.format(i)"
      ],
      "execution_count": null,
      "outputs": []
    },
    {
      "cell_type": "markdown",
      "metadata": {
        "id": "bPijyg8u8zl0"
      },
      "source": [
        "**MI EJEMPLO**"
      ]
    },
    {
      "cell_type": "code",
      "metadata": {
        "colab": {
          "base_uri": "https://localhost:8080/"
        },
        "id": "WyRZZKKf8zVZ",
        "outputId": "170cef6f-3c44-41a9-8eaa-34914e5d8d6a"
      },
      "source": [
        "i=10\r\n",
        "while i < 15:\r\n",
        "  i+=1\r\n",
        "  print(\"Estamos en el numero {0} \".format(i))"
      ],
      "execution_count": null,
      "outputs": [
        {
          "output_type": "stream",
          "text": [
            "Estamos en el numero 11 \n",
            "Estamos en el numero 12 \n",
            "Estamos en el numero 13 \n",
            "Estamos en el numero 14 \n",
            "Estamos en el numero 15 \n"
          ],
          "name": "stdout"
        }
      ]
    },
    {
      "cell_type": "markdown",
      "metadata": {
        "id": "U9VVVBb5NuYR"
      },
      "source": [
        "\n",
        "With `while` loops we need to make sure that something actually changes from iteration to iteration so that that the loop actually terminates. In this case, we use the shorthand `i -= 1` (short for `i = i - 1`) so that the value of `i` gets smaller with each iteration. Eventually `i` will be reduced to `0`, rendering the condition `False` and exiting the loop."
      ]
    },
    {
      "cell_type": "markdown",
      "metadata": {
        "id": "DKQg6hjyNuYS"
      },
      "source": [
        "A `for` loop iterates a set number of times, determined when you state the entry into the loop. In this case we are iterating over the list returned from `range()`. The `for` loop selects a value from the list, in order, and temporarily assigns the value of `i` to it so that operations can be performed with the value."
      ]
    },
    {
      "cell_type": "code",
      "metadata": {
        "id": "Dt8OtQQRNuYT"
      },
      "source": [
        "for i in range(5):\n",
        "    print 'I am looping! I have looped {0} times!'.format(i + 1)"
      ],
      "execution_count": null,
      "outputs": []
    },
    {
      "cell_type": "markdown",
      "metadata": {
        "id": "XUY8qj_j9sGQ"
      },
      "source": [
        "**MI EJEMPLO**"
      ]
    },
    {
      "cell_type": "code",
      "metadata": {
        "colab": {
          "base_uri": "https://localhost:8080/"
        },
        "id": "n04hFlTI9rwv",
        "outputId": "0958f250-3ff6-421c-fa55-c3406f81be53"
      },
      "source": [
        "for i in range(10):\r\n",
        "  print(\"Estoy iterando,ya van {0} iteraciones\".format(i+1))"
      ],
      "execution_count": null,
      "outputs": [
        {
          "output_type": "stream",
          "text": [
            "Estoy iterando,ya van 1 iteraciones\n",
            "Estoy iterando,ya van 2 iteraciones\n",
            "Estoy iterando,ya van 3 iteraciones\n",
            "Estoy iterando,ya van 4 iteraciones\n",
            "Estoy iterando,ya van 5 iteraciones\n",
            "Estoy iterando,ya van 6 iteraciones\n",
            "Estoy iterando,ya van 7 iteraciones\n",
            "Estoy iterando,ya van 8 iteraciones\n",
            "Estoy iterando,ya van 9 iteraciones\n",
            "Estoy iterando,ya van 10 iteraciones\n"
          ],
          "name": "stdout"
        }
      ]
    },
    {
      "cell_type": "markdown",
      "metadata": {
        "id": "bbzTmYDHNuYU"
      },
      "source": [
        "Note that in this `for` loop we use the `in` keyword. Use of the `in` keyword is not limited to checking for membership as in the if-statement example. You can iterate over any collection with a `for` loop by using the `in` keyword.\n",
        "\n",
        "In this next example, we will iterate over a `set` because we want to check for containment and add to a new set."
      ]
    },
    {
      "cell_type": "code",
      "metadata": {
        "id": "ywR2S6fdNuYV"
      },
      "source": [
        "my_list = {'cats', 'dogs', 'lizards', 'cows', 'bats', 'sponges', 'humans'} # Lists all the animals in the world\n",
        "mammal_list = {'cats', 'dogs', 'cows', 'bats', 'humans'} # Lists all the mammals in the world\n",
        "my_new_list = set()\n",
        "for animal in my_list:\n",
        "    if animal in mammal_list:\n",
        "        # This adds any animal that is both in my_list and mammal_list to my_new_list\n",
        "        my_new_list.add(animal)\n",
        "        \n",
        "print my_new_list"
      ],
      "execution_count": null,
      "outputs": []
    },
    {
      "cell_type": "markdown",
      "metadata": {
        "id": "FAFvFFtB-OA2"
      },
      "source": [
        "**MI EJEMPLO**"
      ]
    },
    {
      "cell_type": "code",
      "metadata": {
        "colab": {
          "base_uri": "https://localhost:8080/"
        },
        "id": "x5bywbRp-NsB",
        "outputId": "16990956-f920-47b9-b8b8-f251356fc20a"
      },
      "source": [
        "primeros_numeros = {\"1\",\"2\",\"3\",\"4\",\"5\",\"6\",\"7\",\"8\",\"9\",\"10\",\"11\"}\r\n",
        "primeros_primos = {\"2\",\"3\",\"5\",\"7\",\"11\"}\r\n",
        "num_primos = set()\r\n",
        "for numero in primeros_numeros:\r\n",
        "  if numero in primeros_primos:\r\n",
        "    num_primos.add(numero)\r\n",
        "print(num_primos)    "
      ],
      "execution_count": null,
      "outputs": [
        {
          "output_type": "stream",
          "text": [
            "{'7', '3', '2', '11', '5'}\n"
          ],
          "name": "stdout"
        }
      ]
    },
    {
      "cell_type": "markdown",
      "metadata": {
        "id": "RLqTK8QENuYW"
      },
      "source": [
        "There are two statements that are very helpful in dealing with both `for` and `while` loops. These are `break` and `continue`. If `break` is encountered at any point while a loop is executing, the loop will immediately end."
      ]
    },
    {
      "cell_type": "code",
      "metadata": {
        "id": "AfN4HMLjNuYW"
      },
      "source": [
        "i = 10\n",
        "while True:\n",
        "    if i == 14:\n",
        "        break\n",
        "    i += 1 # This is shorthand for i = i + 1. It increments i with each iteration.\n",
        "    print i"
      ],
      "execution_count": null,
      "outputs": []
    },
    {
      "cell_type": "code",
      "metadata": {
        "id": "X2102ARHNuYX"
      },
      "source": [
        "for i in range(5):\n",
        "    if i == 2:\n",
        "        break\n",
        "    print i"
      ],
      "execution_count": null,
      "outputs": []
    },
    {
      "cell_type": "markdown",
      "metadata": {
        "id": "WeIHxRVz_k7Y"
      },
      "source": [
        "**MI EJEMPLO**"
      ]
    },
    {
      "cell_type": "code",
      "metadata": {
        "colab": {
          "base_uri": "https://localhost:8080/"
        },
        "id": "zopEPyL-_kh3",
        "outputId": "9c35bae1-da34-4851-ec4e-c903b6aa02de"
      },
      "source": [
        "for i in range(10):\r\n",
        "  if i==8:\r\n",
        "    break\r\n",
        "  print(i)  \r\n"
      ],
      "execution_count": null,
      "outputs": [
        {
          "output_type": "stream",
          "text": [
            "0\n",
            "1\n",
            "2\n",
            "3\n",
            "4\n",
            "5\n",
            "6\n",
            "7\n"
          ],
          "name": "stdout"
        }
      ]
    },
    {
      "cell_type": "markdown",
      "metadata": {
        "id": "G1LjMGkxNuYX"
      },
      "source": [
        "The `continue` statement will tell the loop to immediately end this iteration and continue onto the next iteration of the loop."
      ]
    },
    {
      "cell_type": "code",
      "metadata": {
        "id": "ZWx41m_2NuYY"
      },
      "source": [
        "i = 0\n",
        "while i < 5:\n",
        "    i += 1\n",
        "    if i == 3:\n",
        "        continue\n",
        "    print i"
      ],
      "execution_count": null,
      "outputs": []
    },
    {
      "cell_type": "markdown",
      "metadata": {
        "id": "pkFP0UWd_4yQ"
      },
      "source": [
        "**MI EJEMPLO**"
      ]
    },
    {
      "cell_type": "code",
      "metadata": {
        "colab": {
          "base_uri": "https://localhost:8080/"
        },
        "id": "Kxy9Yy9G_4fk",
        "outputId": "619630e6-8703-4f36-fe33-f3f990d5badf"
      },
      "source": [
        "for i in range(10):\r\n",
        "  if i==8:\r\n",
        "    continue\r\n",
        "  print(i)  "
      ],
      "execution_count": null,
      "outputs": [
        {
          "output_type": "stream",
          "text": [
            "0\n",
            "1\n",
            "2\n",
            "3\n",
            "4\n",
            "5\n",
            "6\n",
            "7\n",
            "9\n"
          ],
          "name": "stdout"
        }
      ]
    },
    {
      "cell_type": "markdown",
      "metadata": {
        "id": "dyHP8l7PNuYY"
      },
      "source": [
        "This loop skips printing the number $3$ because of the `continue` statement that executes when we enter the if-statement. The code never sees the command to print the number $3$ because it has already moved to the next iteration. The `break` and `continue` statements are further tools to help you control the flow of your loops and, as a result, your code."
      ]
    },
    {
      "cell_type": "markdown",
      "metadata": {
        "id": "whSXvDloNuYc"
      },
      "source": [
        "The variable that we use to iterate over a loop will retain its value when the loop exits. Similarly, any variables defined within the context of the loop will continue to exist outside of it."
      ]
    },
    {
      "cell_type": "code",
      "metadata": {
        "id": "PjtrKkfLNuYd"
      },
      "source": [
        "for i in range(5):\n",
        "    loop_string = 'I transcend the loop!'\n",
        "    print 'I am eternal! I am {0} and I exist everywhere!'.format(i)\n",
        "\n",
        "print 'I persist! My value is {0}'.format(i)\n",
        "print loop_string"
      ],
      "execution_count": null,
      "outputs": []
    },
    {
      "cell_type": "markdown",
      "metadata": {
        "id": "WLYxQkchAK37"
      },
      "source": [
        "**MI EJEMPLO**"
      ]
    },
    {
      "cell_type": "code",
      "metadata": {
        "colab": {
          "base_uri": "https://localhost:8080/"
        },
        "id": "nieG0OezAKjr",
        "outputId": "ef008090-6e08-46fb-f154-d6474564acfc"
      },
      "source": [
        "for i in range(8):\r\n",
        "    string_loop = \"Hola\"\r\n",
        "    print(\"Llevo {0} iteraciones\".format(i))\r\n",
        "print(\"Mi valor sigue siendo {0}\".format(i))\r\n",
        "print(string_loop)    \r\n"
      ],
      "execution_count": null,
      "outputs": [
        {
          "output_type": "stream",
          "text": [
            "Llevo 0 iteraciones\n",
            "Llevo 1 iteraciones\n",
            "Llevo 2 iteraciones\n",
            "Llevo 3 iteraciones\n",
            "Llevo 4 iteraciones\n",
            "Llevo 5 iteraciones\n",
            "Llevo 6 iteraciones\n",
            "Llevo 7 iteraciones\n",
            "Mi valor sigue siendo 7\n",
            "Hola\n"
          ],
          "name": "stdout"
        }
      ]
    },
    {
      "cell_type": "markdown",
      "metadata": {
        "id": "vpEFz7BxNuYe"
      },
      "source": [
        "We can also iterate over a dictionary!"
      ]
    },
    {
      "cell_type": "code",
      "metadata": {
        "id": "Tk41erENNuYe"
      },
      "source": [
        "my_dict = {'firstname' : 'Inigo', 'lastname' : 'Montoya', 'nemesis' : 'Rugen'}"
      ],
      "execution_count": null,
      "outputs": []
    },
    {
      "cell_type": "code",
      "metadata": {
        "id": "weei-LKTNuYf"
      },
      "source": [
        "for key in my_dict:\n",
        "    print key"
      ],
      "execution_count": null,
      "outputs": []
    },
    {
      "cell_type": "markdown",
      "metadata": {
        "id": "n_cWts13BIRZ"
      },
      "source": [
        "**MI EJEMPLO**"
      ]
    },
    {
      "cell_type": "code",
      "metadata": {
        "colab": {
          "base_uri": "https://localhost:8080/"
        },
        "id": "kKggckYnBH9c",
        "outputId": "89913b7d-38e0-4b75-8eae-a5306473d80e"
      },
      "source": [
        "for key in diccionario:\r\n",
        "  print(key)"
      ],
      "execution_count": null,
      "outputs": [
        {
          "output_type": "stream",
          "text": [
            "Cuadrupedos\n",
            "Bípedos\n"
          ],
          "name": "stdout"
        }
      ]
    },
    {
      "cell_type": "markdown",
      "metadata": {
        "id": "ZcCkLpR7NuYg"
      },
      "source": [
        "If we just iterate over a dictionary without doing anything else, we will only get the keys. We can either use the keys to get the values, like so:"
      ]
    },
    {
      "cell_type": "code",
      "metadata": {
        "id": "MtsmztYDNuYg"
      },
      "source": [
        "for key in my_dict:\n",
        "    print my_dict[key]"
      ],
      "execution_count": null,
      "outputs": []
    },
    {
      "cell_type": "markdown",
      "metadata": {
        "id": "1MscjdE_BaFj"
      },
      "source": [
        "**MI EJEMPLO**"
      ]
    },
    {
      "cell_type": "code",
      "metadata": {
        "id": "m-4iScrDBZz3"
      },
      "source": [
        "for key in diccionario:\r\n",
        "  print(diccionario[key])"
      ],
      "execution_count": null,
      "outputs": []
    },
    {
      "cell_type": "markdown",
      "metadata": {
        "id": "6y5ak-htNuYh"
      },
      "source": [
        "Or we can use the `items()` function to get both key and value at the same time."
      ]
    },
    {
      "cell_type": "code",
      "metadata": {
        "id": "qOvNnf4UNuYh"
      },
      "source": [
        "for key, value in my_dict.items():\n",
        "    print key, ':', value"
      ],
      "execution_count": null,
      "outputs": []
    },
    {
      "cell_type": "markdown",
      "metadata": {
        "id": "PjeMp_NjBrDy"
      },
      "source": [
        "**MI EJEMPLO**"
      ]
    },
    {
      "cell_type": "code",
      "metadata": {
        "colab": {
          "base_uri": "https://localhost:8080/"
        },
        "id": "1uQoPBRLBqsD",
        "outputId": "fff49a89-5432-49a4-8486-fe1a6c5f6908"
      },
      "source": [
        "for key, value in diccionario.items():\r\n",
        "  print(key, \";\", value)"
      ],
      "execution_count": null,
      "outputs": [
        {
          "output_type": "stream",
          "text": [
            "Cuadrupedos ; Mamiferos\n",
            "Bípedos ; ['Pájaro']\n"
          ],
          "name": "stdout"
        }
      ]
    },
    {
      "cell_type": "markdown",
      "metadata": {
        "id": "CaFUO3aONuYi"
      },
      "source": [
        "The `items()` function creates a tuple of each key-value pair and the for loop unpacks that tuple into `key, value` on each separate execution of the loop!"
      ]
    },
    {
      "cell_type": "markdown",
      "metadata": {
        "id": "9cHk0vkNNuYj"
      },
      "source": [
        "## Functions\n",
        "\n",
        "A function is a reusable block of code that you can call repeatedly to make calculations, output data, or really do anything that you want. This is one of the key aspects of using a programming language. To add to the built-in functions in Python, you can define your own!"
      ]
    },
    {
      "cell_type": "code",
      "metadata": {
        "id": "C1S0Ef5RNuYj"
      },
      "source": [
        "def hello_world():\n",
        "    \"\"\" Prints Hello, world! \"\"\"\n",
        "    print 'Hello, world!'\n",
        "\n",
        "hello_world()"
      ],
      "execution_count": null,
      "outputs": []
    },
    {
      "cell_type": "code",
      "metadata": {
        "id": "RXYe7SjdNuYk"
      },
      "source": [
        "for i in range(5):\n",
        "    hello_world()"
      ],
      "execution_count": null,
      "outputs": []
    },
    {
      "cell_type": "markdown",
      "metadata": {
        "id": "X52J0Rd6GxBi"
      },
      "source": [
        "**MI EJEMPLO**"
      ]
    },
    {
      "cell_type": "code",
      "metadata": {
        "colab": {
          "base_uri": "https://localhost:8080/"
        },
        "id": "wMgR5D0cGwxA",
        "outputId": "5d4ed216-e98d-4ef8-c380-6949b7a9b50d"
      },
      "source": [
        "def numeros():\r\n",
        "  for i in range(10):\r\n",
        "    print(i)\r\n",
        "numeros()"
      ],
      "execution_count": null,
      "outputs": [
        {
          "output_type": "stream",
          "text": [
            "0\n",
            "1\n",
            "2\n",
            "3\n",
            "4\n",
            "5\n",
            "6\n",
            "7\n",
            "8\n",
            "9\n"
          ],
          "name": "stdout"
        }
      ]
    },
    {
      "cell_type": "markdown",
      "metadata": {
        "id": "_ZQ14JTcNuYl"
      },
      "source": [
        "Functions are defined with `def`, a function name, a list of parameters, and a colon. Everything indented below the colon will be included in the definition of the function.\n",
        "\n",
        "We can have our functions do anything that you can do with a normal block of code. For example, our `hello_world()` function prints a string every time it is called. If we want to keep a value that a function calculates, we can define the function so that it will `return` the value we want. This is a very important feature of functions, as any variable defined purely within a function will not exist outside of it."
      ]
    },
    {
      "cell_type": "code",
      "metadata": {
        "id": "tSWA8GI4NuYm"
      },
      "source": [
        "def see_the_scope():\n",
        "    in_function_string = \"I'm stuck in here!\"\n",
        "\n",
        "see_the_scope()\n",
        "print(in_function_string)\n"
      ],
      "execution_count": null,
      "outputs": []
    },
    {
      "cell_type": "markdown",
      "metadata": {
        "id": "F16AlktIHHtV"
      },
      "source": [
        "**MI EJEMPLO**"
      ]
    },
    {
      "cell_type": "code",
      "metadata": {
        "id": "c0LCd3-XHHbr"
      },
      "source": [
        "def valor_inmutable():\r\n",
        "    string_funcion = \"Estoy en la funcion\"\r\n",
        "valor_inmutable()\r\n",
        "print(string_funcion)"
      ],
      "execution_count": null,
      "outputs": []
    },
    {
      "cell_type": "markdown",
      "metadata": {
        "id": "Z-ROQ2QXNuYo"
      },
      "source": [
        " The **scope** of a variable is the part of a block of code where that variable is tied to a particular value. Functions in Python have an enclosed scope, making it so that variables defined within them can only be accessed directly within them. If we pass those values to a return statement we can get them out of the function. This makes it so that the function call returns values so that you can store them in variables that have a greater scope.\n",
        " \n",
        "In this case specifically, including a return statement allows us to keep the string value that we define in the function."
      ]
    },
    {
      "cell_type": "code",
      "metadata": {
        "colab": {
          "base_uri": "https://localhost:8080/"
        },
        "id": "EURf8GZiNuYp",
        "outputId": "6ba766b7-8b56-4673-a26f-544df1a86ce1"
      },
      "source": [
        "def free_the_scope():\n",
        "    in_function_string = \"Anything you can do I can do better!\"\n",
        "    return in_function_string\n",
        "my_string = free_the_scope()\n",
        "print(my_string)"
      ],
      "execution_count": null,
      "outputs": [
        {
          "output_type": "stream",
          "text": [
            "Anything you can do I can do better!\n"
          ],
          "name": "stdout"
        }
      ]
    },
    {
      "cell_type": "markdown",
      "metadata": {
        "id": "vjCNCLv6I9rv"
      },
      "source": [
        "**MI EJEMPLO**"
      ]
    },
    {
      "cell_type": "code",
      "metadata": {
        "colab": {
          "base_uri": "https://localhost:8080/"
        },
        "id": "LXHDYhCEI9KL",
        "outputId": "f0b3cc1c-1cc6-4ad6-d489-ffc387c27d96"
      },
      "source": [
        "def scope():\r\n",
        "    string_funcion = \"Hola desde la función\"\r\n",
        "    return string_funcion\r\n",
        "miString = scope()\r\n",
        "print(miString)"
      ],
      "execution_count": null,
      "outputs": [
        {
          "output_type": "stream",
          "text": [
            "Hola desde la función\n"
          ],
          "name": "stdout"
        }
      ]
    },
    {
      "cell_type": "markdown",
      "metadata": {
        "id": "cAa-ZEqaNuYs"
      },
      "source": [
        "Just as we can get values out of a function, we can also put values into a function. We do this by defining our function with parameters."
      ]
    },
    {
      "cell_type": "code",
      "metadata": {
        "id": "hNFzTAxKNuYt"
      },
      "source": [
        "def multiply_by_five(x):\n",
        "    \"\"\" Multiplies an input number by 5 \"\"\"\n",
        "    return x * 5\n",
        "\n",
        "n = 4\n",
        "print n\n",
        "print multiply_by_five(n)"
      ],
      "execution_count": null,
      "outputs": []
    },
    {
      "cell_type": "markdown",
      "metadata": {
        "id": "7wxXdYCyJeqi"
      },
      "source": [
        "**MI EJEMPLO**"
      ]
    },
    {
      "cell_type": "code",
      "metadata": {
        "colab": {
          "base_uri": "https://localhost:8080/"
        },
        "id": "E8_ShDw3JeXk",
        "outputId": "8c5b6a82-335f-4143-8fcf-70b6ef5636d3"
      },
      "source": [
        "def dividir_por_3(x):\r\n",
        "  return x/3\r\n",
        "\r\n",
        "n=21\r\n",
        "print(n)\r\n",
        "print(dividir_por_3(n))"
      ],
      "execution_count": null,
      "outputs": [
        {
          "output_type": "stream",
          "text": [
            "21\n",
            "7.0\n"
          ],
          "name": "stdout"
        }
      ]
    },
    {
      "cell_type": "markdown",
      "metadata": {
        "id": "sYVD1iGGNuYu"
      },
      "source": [
        "In this example we only had one parameter for our function, `x`. We can easily add more parameters, separating everything with a comma."
      ]
    },
    {
      "cell_type": "code",
      "metadata": {
        "id": "No4jcrENNuYu"
      },
      "source": [
        "def calculate_area(length, width):\n",
        "    \"\"\" Calculates the area of a rectangle \"\"\"\n",
        "    return length * width"
      ],
      "execution_count": null,
      "outputs": []
    },
    {
      "cell_type": "code",
      "metadata": {
        "id": "dZ88L0l_NuYw"
      },
      "source": [
        "l = 5\n",
        "w = 10\n",
        "print 'Area: ', calculate_area(l, w)\n",
        "print 'Length: ', l\n",
        "print 'Width: ', w"
      ],
      "execution_count": null,
      "outputs": []
    },
    {
      "cell_type": "code",
      "metadata": {
        "id": "dRCou5w0NuYx"
      },
      "source": [
        "def calculate_volume(length, width, depth):\n",
        "    \"\"\" Calculates the volume of a rectangular prism \"\"\"\n",
        "    return length * width * depth"
      ],
      "execution_count": null,
      "outputs": []
    },
    {
      "cell_type": "markdown",
      "metadata": {
        "id": "6hPKBpB9KTjv"
      },
      "source": [
        "**MI EJEMPLO**"
      ]
    },
    {
      "cell_type": "code",
      "metadata": {
        "colab": {
          "base_uri": "https://localhost:8080/"
        },
        "id": "lwk-RQl4KTLr",
        "outputId": "596d893f-b82c-4e61-c8e6-aeac49993ed7"
      },
      "source": [
        " def calcular_vol_cilindro(h,r):\r\n",
        "   return 3.14*(r*r)*h \r\n",
        " r=3\r\n",
        " h=10\r\n",
        " print(\"Volumen de cilindro: \", calcular_vol_cilindro(h,r))  "
      ],
      "execution_count": null,
      "outputs": [
        {
          "output_type": "stream",
          "text": [
            "Volumen de cilindro:  282.6\n"
          ],
          "name": "stdout"
        }
      ]
    },
    {
      "cell_type": "markdown",
      "metadata": {
        "id": "jOmJqRd1NuYy"
      },
      "source": [
        "If we want to, we can define a function so that it takes an arbitrary number of parameters. We tell Python that we want this by using an asterisk (`*`)."
      ]
    },
    {
      "cell_type": "code",
      "metadata": {
        "id": "HNq7vvY1NuYz"
      },
      "source": [
        "def sum_values(*args):\n",
        "    sum_val = 0\n",
        "    for i in args:\n",
        "        sum_val += i\n",
        "    return sum_val"
      ],
      "execution_count": null,
      "outputs": []
    },
    {
      "cell_type": "code",
      "metadata": {
        "id": "ud-I1ON-NuYz"
      },
      "source": [
        "print sum_values(1, 2, 3)\n",
        "print sum_values(10, 20, 30, 40, 50)\n",
        "print sum_values(4, 2, 5, 1, 10, 249, 25, 24, 13, 6, 4)"
      ],
      "execution_count": null,
      "outputs": []
    },
    {
      "cell_type": "markdown",
      "metadata": {
        "id": "1ZIguPmjMVF6"
      },
      "source": [
        "**MI EJEMPLO**"
      ]
    },
    {
      "cell_type": "code",
      "metadata": {
        "colab": {
          "base_uri": "https://localhost:8080/"
        },
        "id": "PNVTsMABMU4d",
        "outputId": "aad40bd3-f687-40a8-d969-fd5fb655cf21"
      },
      "source": [
        "def resta_valores(*args):\r\n",
        "  rest_val = 0\r\n",
        "  for i in args:\r\n",
        "      rest_val -= i\r\n",
        "  return rest_val \r\n",
        "\r\n",
        "print(resta_valores(300,20,20,30))"
      ],
      "execution_count": null,
      "outputs": [
        {
          "output_type": "stream",
          "text": [
            "-370\n"
          ],
          "name": "stdout"
        }
      ]
    },
    {
      "cell_type": "markdown",
      "metadata": {
        "id": "ZdqFhkjHNuY3"
      },
      "source": [
        "The time to use `*args` as a parameter for your function is when you do not know how many values may be passed to it, as in the case of our sum function. The asterisk in this case is the syntax that tells Python that you are going to pass an arbitrary number of parameters into your function. These parameters are stored in the form of a tuple."
      ]
    },
    {
      "cell_type": "code",
      "metadata": {
        "colab": {
          "base_uri": "https://localhost:8080/"
        },
        "id": "sBuF4dR-NuY4",
        "outputId": "8c06fd1d-67a0-443b-c2e9-542acffc7996"
      },
      "source": [
        "def test_args(*args):\n",
        "    print(type(args))\n",
        "\n",
        "test_args(1, 2, 3, 4, 5, 6)"
      ],
      "execution_count": null,
      "outputs": [
        {
          "output_type": "stream",
          "text": [
            "<class 'tuple'>\n"
          ],
          "name": "stdout"
        }
      ]
    },
    {
      "cell_type": "markdown",
      "metadata": {
        "id": "rqFlp0cENnEN"
      },
      "source": [
        "**MI EJEMPLO**"
      ]
    },
    {
      "cell_type": "code",
      "metadata": {
        "colab": {
          "base_uri": "https://localhost:8080/"
        },
        "id": "fjLRxxgeNmtp",
        "outputId": "53137a0c-7166-45fe-d1df-2bb75314b4c7"
      },
      "source": [
        "def testeo_args(*args):\r\n",
        "    print(type(args))\r\n",
        "\r\n",
        "testeo_args(1, 2, 3, 4, 5, 6)"
      ],
      "execution_count": null,
      "outputs": [
        {
          "output_type": "stream",
          "text": [
            "<class 'tuple'>\n"
          ],
          "name": "stdout"
        }
      ]
    },
    {
      "cell_type": "markdown",
      "metadata": {
        "id": "gomJFRE8NuY5"
      },
      "source": [
        "We can put as many elements into the `args` tuple as we want to when we call the function. However, because `args` is a tuple, we cannot modify it after it has been created.\n",
        "\n",
        "The `args` name of the variable is purely by convention. You could just as easily name your parameter `*vars` or `*things`. You can treat the `args` tuple like you would any other tuple, easily accessing `arg`'s values and iterating over it, as in the above `sum_values(*args)` function."
      ]
    },
    {
      "cell_type": "markdown",
      "metadata": {
        "id": "fnUFsgXwNuY5"
      },
      "source": [
        "Our functions can return any data type. This makes it easy for us to create functions that check for conditions that we might want to monitor.\n",
        "\n",
        "Here we define a function that returns a boolean value. We can easily use this in conjunction with if-statements and  other situations that require a boolean."
      ]
    },
    {
      "cell_type": "code",
      "metadata": {
        "id": "L7AfPoRBNuY6"
      },
      "source": [
        "def has_a_vowel(word):\n",
        "    \"\"\" \n",
        "    Checks to see whether a word contains a vowel \n",
        "    If it doesn't contain a conventional vowel, it\n",
        "    will check for the presence of 'y' or 'w'. Does\n",
        "    not check to see whether those are in the word\n",
        "    in a vowel context.\n",
        "    \"\"\"\n",
        "    vowel_list = ['a', 'e', 'i', 'o', 'u']\n",
        "    \n",
        "    for vowel in vowel_list:\n",
        "        if vowel in word:\n",
        "            return True\n",
        "    # If there is a vowel in the word, the function returns, preventing anything after this loop from running\n",
        "    return False"
      ],
      "execution_count": null,
      "outputs": []
    },
    {
      "cell_type": "code",
      "metadata": {
        "id": "i8E34EtINuY-"
      },
      "source": [
        "my_word = 'catnapping'\n",
        "if has_a_vowel(my_word):\n",
        "    print 'How surprising, an english word contains a vowel.'\n",
        "else:\n",
        "    print 'This is actually surprising.'"
      ],
      "execution_count": null,
      "outputs": []
    },
    {
      "cell_type": "code",
      "metadata": {
        "id": "jiB-nQxnNuY-"
      },
      "source": [
        "def point_maker(x, y):\n",
        "    \"\"\" Groups x and y values into a point, technically a tuple \"\"\"\n",
        "    return x, y"
      ],
      "execution_count": null,
      "outputs": []
    },
    {
      "cell_type": "markdown",
      "metadata": {
        "id": "nkiU_XSQNuY_"
      },
      "source": [
        "This above function returns an ordered pair of the input parameters, stored as a tuple."
      ]
    },
    {
      "cell_type": "code",
      "metadata": {
        "scrolled": true,
        "id": "jOJlkIW-NuZA"
      },
      "source": [
        "a = point_maker(0, 10)\n",
        "b = point_maker(5, 3)\n",
        "def calculate_slope(point_a, point_b):\n",
        "    \"\"\" Calculates the linear slope between two points \"\"\"\n",
        "    return (point_b[1] - point_a[1])/(point_b[0] - point_a[0])\n",
        "print \"The slope between a and b is {0}\".format(calculate_slope(a, b))"
      ],
      "execution_count": null,
      "outputs": []
    },
    {
      "cell_type": "markdown",
      "metadata": {
        "id": "bcA0pvAJNuZB"
      },
      "source": [
        "And that one calculates the slope between two points!"
      ]
    },
    {
      "cell_type": "code",
      "metadata": {
        "id": "6bisRES_NuZC"
      },
      "source": [
        "print \"The slope-intercept form of the line between a and b, using point a, is: y - {0} = {2}(x - {1})\".format(a[1], a[0], calculate_slope(a, b))"
      ],
      "execution_count": null,
      "outputs": []
    },
    {
      "cell_type": "markdown",
      "metadata": {
        "id": "YcdQ9CA0Obag"
      },
      "source": [
        "**MI EJEMPLO**"
      ]
    },
    {
      "cell_type": "code",
      "metadata": {
        "colab": {
          "base_uri": "https://localhost:8080/"
        },
        "id": "eyvFKr1KObIL",
        "outputId": "63994198-2731-42be-e236-627e09dff440"
      },
      "source": [
        "def has_two(number):\r\n",
        "  if \"2\" in number:\r\n",
        "    return True\r\n",
        "  return False\r\n",
        "\r\n",
        "number = \"33425678\"\r\n",
        "\r\n",
        "if has_two(number):\r\n",
        "  print(\"El número tiene un 2\")\r\n",
        "else:\r\n",
        "  print(\"El numero no tiene un 2\")  "
      ],
      "execution_count": null,
      "outputs": [
        {
          "output_type": "stream",
          "text": [
            "El número tiene un 2\n"
          ],
          "name": "stdout"
        }
      ]
    },
    {
      "cell_type": "markdown",
      "metadata": {
        "id": "cVepsuHGNuZD"
      },
      "source": [
        "With the proper syntax, you can define functions to do whatever calculations you want. This makes them an indispensible part of programming in any language."
      ]
    },
    {
      "cell_type": "markdown",
      "metadata": {
        "id": "bYSo2w7GNuZE"
      },
      "source": [
        "## Next Steps\n",
        "\n",
        "This was a lot of material and there is still even more to cover! Make sure you play around with the cells in each notebook to accustom yourself to the syntax featured here and to figure out any limitations. If you want to delve even deeper into the material, the [documentation for Python](https://docs.python.org/2/) is all available online. We are in the process of developing a second part to this Python tutorial, designed to provide you with even more programming knowledge, so keep an eye on the [Quantopian Lectures Page](quantopian.com/lectures) and the [forums](quantopian.com/posts) for any new lectures."
      ]
    },
    {
      "cell_type": "markdown",
      "metadata": {
        "id": "SpGM_9rHNuZF"
      },
      "source": [
        "*This presentation is for informational purposes only and does not constitute an offer to sell, a solicitation to buy, or a recommendation for any security; nor does it constitute an offer to provide investment advisory or other services by Quantopian, Inc. (\"Quantopian\"). Nothing contained herein constitutes investment advice or offers any opinion with respect to the suitability of any security, and any views expressed herein should not be taken as advice to buy, sell, or hold any security or as an endorsement of any security or company.  In preparing the information contained herein, Quantopian, Inc. has not taken into account the investment needs, objectives, and financial circumstances of any particular investor. Any views expressed and data illustrated herein were prepared based upon information, believed to be reliable, available to Quantopian, Inc. at the time of publication. Quantopian makes no guarantees as to their accuracy or completeness. All information is subject to change and may quickly become unreliable for various reasons, including changes in market conditions or economic circumstances.*"
      ]
    }
  ]
}