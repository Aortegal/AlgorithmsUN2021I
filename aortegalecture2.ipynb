{
  "nbformat": 4,
  "nbformat_minor": 0,
  "metadata": {
    "kernelspec": {
      "name": "python3",
      "display_name": "Python 3"
    },
    "colab": {
      "name": "aortegalecture2.ipynb",
      "provenance": [],
      "collapsed_sections": [
        "mxzeAUS6Exqk",
        "fdTlWYERExqx",
        "-p5nX537ExrD",
        "qxosu0boExrF"
      ]
    }
  },
  "cells": [
    {
      "cell_type": "markdown",
      "metadata": {
        "id": "Pevi2GVfExpr"
      },
      "source": [
        "#Introduction to the Research Environment\n",
        "\n",
        "The research environment is powered by IPython notebooks, which allow one to perform a great deal of data analysis and statistical validation. We'll demonstrate a few simple techniques here."
      ]
    },
    {
      "cell_type": "markdown",
      "metadata": {
        "id": "kA0WEcjqExqS"
      },
      "source": [
        "##Code Cells vs. Text Cells\n",
        "\n",
        "As you can see, each cell can be either code or text. To select between them, choose from the 'Cell Type' dropdown menu on the top left."
      ]
    },
    {
      "cell_type": "markdown",
      "metadata": {
        "id": "BXpORQqcExqV"
      },
      "source": [
        "##Executing a Command\n",
        "\n",
        "A code cell will be evaluated when you press play, or when you press the shortcut, shift-enter. Evaluating a cell evaluates each line of code in sequence, and prints the results of the last line below the cell."
      ]
    },
    {
      "cell_type": "code",
      "metadata": {
        "colab": {
          "base_uri": "https://localhost:8080/"
        },
        "id": "S5MyDsJtExqZ",
        "outputId": "d2d10ba5-8e71-4d26-b835-d864ea7c3c07"
      },
      "source": [
        "2 + 2"
      ],
      "execution_count": null,
      "outputs": [
        {
          "output_type": "execute_result",
          "data": {
            "text/plain": [
              "4"
            ]
          },
          "metadata": {
            "tags": []
          },
          "execution_count": 2
        }
      ]
    },
    {
      "cell_type": "markdown",
      "metadata": {
        "id": "LqcygnQOG_l5"
      },
      "source": [
        "**MI EJEMPLO**"
      ]
    },
    {
      "cell_type": "code",
      "metadata": {
        "colab": {
          "base_uri": "https://localhost:8080/"
        },
        "id": "_05OT9FXHFO3",
        "outputId": "d9a90c49-3b29-468a-e7a6-aef746953014"
      },
      "source": [
        "11+45"
      ],
      "execution_count": null,
      "outputs": [
        {
          "output_type": "execute_result",
          "data": {
            "text/plain": [
              "56"
            ]
          },
          "metadata": {
            "tags": []
          },
          "execution_count": 1
        }
      ]
    },
    {
      "cell_type": "markdown",
      "metadata": {
        "id": "2PXZ9_F2Exqc"
      },
      "source": [
        "Sometimes there is no result to be printed, as is the case with assignment."
      ]
    },
    {
      "cell_type": "code",
      "metadata": {
        "collapsed": true,
        "id": "sOlzF4OFExqe"
      },
      "source": [
        "X = 2"
      ],
      "execution_count": null,
      "outputs": []
    },
    {
      "cell_type": "markdown",
      "metadata": {
        "id": "eDGY1nHVHW_p"
      },
      "source": [
        "**MI EJEMPLO**"
      ]
    },
    {
      "cell_type": "code",
      "metadata": {
        "id": "3tsT-1XtHa7E"
      },
      "source": [
        "Y=24"
      ],
      "execution_count": null,
      "outputs": []
    },
    {
      "cell_type": "markdown",
      "metadata": {
        "id": "fCgKtk3OExqf"
      },
      "source": [
        "Remember that only the result from the last line is printed."
      ]
    },
    {
      "cell_type": "code",
      "metadata": {
        "colab": {
          "base_uri": "https://localhost:8080/"
        },
        "id": "_gbAEscAExqh",
        "outputId": "9d04e631-a3fb-433a-cb7f-2601075165f1"
      },
      "source": [
        "2 + 2\n",
        "3 + 3"
      ],
      "execution_count": null,
      "outputs": [
        {
          "output_type": "execute_result",
          "data": {
            "text/plain": [
              "6"
            ]
          },
          "metadata": {
            "tags": []
          },
          "execution_count": 3
        }
      ]
    },
    {
      "cell_type": "markdown",
      "metadata": {
        "id": "z3m9EAVAExqi"
      },
      "source": [
        "However, you can print whichever lines you want using the `print` statement."
      ]
    },
    {
      "cell_type": "code",
      "metadata": {
        "colab": {
          "base_uri": "https://localhost:8080/",
          "height": 129
        },
        "id": "ooWlgPShExqj",
        "outputId": "ecbe9d25-7892-4c2c-f43f-dc8dd2ea566b"
      },
      "source": [
        "print 2 + 2\n",
        "3 + 3"
      ],
      "execution_count": null,
      "outputs": [
        {
          "output_type": "error",
          "ename": "SyntaxError",
          "evalue": "ignored",
          "traceback": [
            "\u001b[0;36m  File \u001b[0;32m\"<ipython-input-9-9046053867b3>\"\u001b[0;36m, line \u001b[0;32m1\u001b[0m\n\u001b[0;31m    print 2 + 2\u001b[0m\n\u001b[0m          ^\u001b[0m\n\u001b[0;31mSyntaxError\u001b[0m\u001b[0;31m:\u001b[0m Missing parentheses in call to 'print'. Did you mean print(2 + 2)?\n"
          ]
        }
      ]
    },
    {
      "cell_type": "markdown",
      "metadata": {
        "id": "y4Kw2kKjMMLO"
      },
      "source": [
        "**MI EJEMPLO**\r\n"
      ]
    },
    {
      "cell_type": "code",
      "metadata": {
        "colab": {
          "base_uri": "https://localhost:8080/"
        },
        "id": "UNg4GXZ3MPJP",
        "outputId": "ff20eda5-751a-4cae-c640-b9a488191ceb"
      },
      "source": [
        "print( 4 + 23,\r\n",
        "9 + 9)"
      ],
      "execution_count": null,
      "outputs": [
        {
          "output_type": "stream",
          "text": [
            "27 18\n"
          ],
          "name": "stdout"
        }
      ]
    },
    {
      "cell_type": "markdown",
      "metadata": {
        "id": "mxzeAUS6Exqk"
      },
      "source": [
        "##Knowing When a Cell is Running\n",
        "\n",
        "While a cell is running, a `[*]` will display on the left. When a cell has yet to be executed, `[ ]` will display. When it has been run, a number will display indicating the order in which it was run during the execution of the notebook `[5]`. Try on this cell and note it happening."
      ]
    },
    {
      "cell_type": "code",
      "metadata": {
        "colab": {
          "base_uri": "https://localhost:8080/"
        },
        "id": "pBoSvmQhExqm",
        "outputId": "70204f5e-ef03-44b1-cefe-239eac82b89b"
      },
      "source": [
        "#Take some time to run something\n",
        "c = 0\n",
        "for i in range(10000000):\n",
        "    c = c + i\n",
        "c"
      ],
      "execution_count": null,
      "outputs": [
        {
          "output_type": "execute_result",
          "data": {
            "text/plain": [
              "49999995000000"
            ]
          },
          "metadata": {
            "tags": []
          },
          "execution_count": 10
        }
      ]
    },
    {
      "cell_type": "markdown",
      "metadata": {
        "id": "n4Wx-bWMNFE5"
      },
      "source": [
        "**MI EJEMPLO**"
      ]
    },
    {
      "cell_type": "code",
      "metadata": {
        "colab": {
          "base_uri": "https://localhost:8080/"
        },
        "id": "6dkq7XYoM3ib",
        "outputId": "7d1e09cf-82de-456f-ed1d-eddba1905345"
      },
      "source": [
        "z=0\r\n",
        "for i in range (450):\r\n",
        "    z = z + i\r\n",
        "z    "
      ],
      "execution_count": null,
      "outputs": [
        {
          "output_type": "execute_result",
          "data": {
            "text/plain": [
              "101025"
            ]
          },
          "metadata": {
            "tags": []
          },
          "execution_count": 12
        }
      ]
    },
    {
      "cell_type": "markdown",
      "metadata": {
        "id": "jBiTO-ljExqn"
      },
      "source": [
        "##Importing Libraries\n",
        "\n",
        "The vast majority of the time, you'll want to use functions from pre-built libraries. You can't import every library on Quantopian due to security issues, but you can import most of the common scientific ones. Here I import numpy and pandas, the two most common and useful libraries in quant finance. I recommend copying this import statement to every new notebook.\n",
        "\n",
        "Notice that you can rename libraries to whatever you want after importing. The `as` statement allows this. Here we use `np` and `pd` as aliases for `numpy` and `pandas`. This is a very common aliasing and will be found in most code snippets around the web. The point behind this is to allow you to type fewer characters when you are frequently accessing these libraries."
      ]
    },
    {
      "cell_type": "code",
      "metadata": {
        "collapsed": true,
        "id": "UruZnEZMExqr"
      },
      "source": [
        "import numpy as np\n",
        "import pandas as pd\n",
        "\n",
        "# This is a plotting library for pretty pictures.\n",
        "import matplotlib.pyplot as plt"
      ],
      "execution_count": null,
      "outputs": []
    },
    {
      "cell_type": "markdown",
      "metadata": {
        "id": "DzSA9YrAOsoz"
      },
      "source": [
        "**MI EJEMPLO**\r\n"
      ]
    },
    {
      "cell_type": "code",
      "metadata": {
        "id": "DQ1BLoNEOxLT"
      },
      "source": [
        "import tensorflow as tf\r\n"
      ],
      "execution_count": null,
      "outputs": []
    },
    {
      "cell_type": "markdown",
      "metadata": {
        "id": "IfH4_eUbExqt"
      },
      "source": [
        "##Tab Autocomplete\n",
        "\n",
        "Pressing tab will give you a list of IPython's best guesses for what you might want to type next. This is incredibly valuable and will save you a lot of time. If there is only one possible option for what you could type next, IPython will fill that in for you. Try pressing tab very frequently, it will seldom fill in anything you don't want, as if there is ambiguity a list will be shown. This is a great way to see what functions are available in a library.\n",
        "\n",
        "Try placing your cursor after the `.` and pressing tab."
      ]
    },
    {
      "cell_type": "code",
      "metadata": {
        "id": "G5mHDUv7Exqu"
      },
      "source": [
        "np.random.   "
      ],
      "execution_count": null,
      "outputs": []
    },
    {
      "cell_type": "markdown",
      "metadata": {
        "id": "dYE3R7cFT0Xx"
      },
      "source": [
        "**MI EJEMPLO**"
      ]
    },
    {
      "cell_type": "code",
      "metadata": {
        "id": "a-Cppb5uTvmx"
      },
      "source": [
        "import numpy as np\r\n",
        "np.random."
      ],
      "execution_count": null,
      "outputs": []
    },
    {
      "cell_type": "markdown",
      "metadata": {
        "id": "FYrhzvuEExqv"
      },
      "source": [
        "##Getting Documentation Help\n",
        "\n",
        "Placing a question mark after a function and executing that line of code will give you the documentation IPython has for that function. It's often best to do this in a new cell, as you avoid re-executing other code and running into bugs."
      ]
    },
    {
      "cell_type": "code",
      "metadata": {
        "collapsed": true,
        "id": "8ZjckzwZExqw"
      },
      "source": [
        "np.random.normal?"
      ],
      "execution_count": null,
      "outputs": []
    },
    {
      "cell_type": "markdown",
      "metadata": {
        "id": "YVT-hlNBSujn"
      },
      "source": [
        "**MI EJEMPLO** "
      ]
    },
    {
      "cell_type": "code",
      "metadata": {
        "id": "jt6P-dL9SuEg"
      },
      "source": [
        "import numpy as np\r\n",
        "np.random.rand?"
      ],
      "execution_count": null,
      "outputs": []
    },
    {
      "cell_type": "markdown",
      "metadata": {
        "id": "fdTlWYERExqx"
      },
      "source": [
        "##Sampling\n",
        "\n",
        "We'll sample some random data using a function from `numpy`."
      ]
    },
    {
      "cell_type": "code",
      "metadata": {
        "id": "tbffxCynExrB"
      },
      "source": [
        "# Sample 100 points with a mean of 0 and an std of 1. This is a standard normal distribution.\n",
        "X = np.random.normal(0, 1, 100)"
      ],
      "execution_count": null,
      "outputs": []
    },
    {
      "cell_type": "markdown",
      "metadata": {
        "id": "YFevDIvFT4zT"
      },
      "source": [
        "**MI EJEMPLO**"
      ]
    },
    {
      "cell_type": "code",
      "metadata": {
        "colab": {
          "base_uri": "https://localhost:8080/"
        },
        "id": "rIOO83SuUHOi",
        "outputId": "d408b6bd-3ffe-45c4-a539-196bf941cf8c"
      },
      "source": [
        "import numpy as np\r\n",
        "X = np.random.normal(1, 100, 100)\r\n",
        "X"
      ],
      "execution_count": null,
      "outputs": [
        {
          "output_type": "execute_result",
          "data": {
            "text/plain": [
              "array([-223.93782622,  172.44733051,  117.25417961,  -28.53322767,\n",
              "         68.87591088,   16.39892422,  -87.99044401,  -10.01757032,\n",
              "        -66.33481103,  117.85369589,   96.96105   ,    0.36184954,\n",
              "         23.09930539,  -37.38276907,  103.08337641,   40.92496901,\n",
              "         56.29115905,   -4.0232167 ,  -22.4593595 ,  287.63350145,\n",
              "         75.87098315,   -7.83526598,  -12.57484763, -102.9256259 ,\n",
              "         75.51969285,   97.71448438,   78.92637978, -146.94113162,\n",
              "        -18.24804928,  -54.02757846,  166.05523773,  -67.30051547,\n",
              "          1.23189648,  212.38773776,   82.94640358, -105.29005133,\n",
              "        -62.96152098,  121.57876117,   55.3111283 ,  191.77230997,\n",
              "        204.2448331 ,  -51.18641277,  110.50251227,  -94.20069393,\n",
              "         59.58969024,  -13.29398894,  -81.15318243,   33.92673333,\n",
              "         13.74879168,   45.44491522, -152.09979691,  -82.56679332,\n",
              "         54.26160094,   34.8268211 ,   76.77879799,  -54.32915116,\n",
              "         -7.73772557,   38.44367365,   31.51395738, -102.75496158,\n",
              "       -100.5027437 ,  147.57618775,  167.51169547,   63.30549996,\n",
              "        112.42230467,   23.32620884,  -30.16085322,   28.15567487,\n",
              "        -46.41983692,  202.91519966,  -14.20326038,  -44.35497678,\n",
              "         89.47091283, -183.40457146,  -24.71429108, -100.51212784,\n",
              "        -85.75601016, -174.51697751,  -24.69461188,   32.72308882,\n",
              "        -12.50825337, -107.87393789,   19.12252691,  -32.96994517,\n",
              "        197.48634149,   82.37154053,  158.3748542 , -122.46790599,\n",
              "       -225.00956002,  176.53914635,  -30.57626948,  108.7116473 ,\n",
              "         24.30617696, -113.44411462,  -26.98126117,  -97.92624242,\n",
              "         71.60092728, -103.20438513,   87.95208937,  -67.02739407])"
            ]
          },
          "metadata": {
            "tags": []
          },
          "execution_count": 21
        }
      ]
    },
    {
      "cell_type": "markdown",
      "metadata": {
        "id": "OComjmzCExrC"
      },
      "source": [
        "##Plotting\n",
        "\n",
        "We can use the plotting library we imported as follows."
      ]
    },
    {
      "cell_type": "code",
      "metadata": {
        "id": "qDcTlqS7ExrC"
      },
      "source": [
        "plt.plot(X)"
      ],
      "execution_count": null,
      "outputs": []
    },
    {
      "cell_type": "markdown",
      "metadata": {
        "id": "hc167e1HVIds"
      },
      "source": [
        "**MI EJEMPLO**"
      ]
    },
    {
      "cell_type": "code",
      "metadata": {
        "colab": {
          "base_uri": "https://localhost:8080/",
          "height": 265
        },
        "id": "svmyzP73VMWf",
        "outputId": "753e42da-0bc0-4b47-835a-0935ce1dfed4"
      },
      "source": [
        "import numpy as np\r\n",
        "import matplotlib.pyplot as plt\r\n",
        "\r\n",
        "X = np.random.normal(1, 100, 100)\r\n",
        "plt.plot(X)\r\n",
        "plt.show()"
      ],
      "execution_count": null,
      "outputs": [
        {
          "output_type": "display_data",
          "data": {
            "image/png": "[encoded data removed]",
            "text/plain": [
              "<Figure size 432x288 with 1 Axes>"
            ]
          },
          "metadata": {
            "tags": [],
            "needs_background": "light"
          }
        }
      ]
    },
    {
      "cell_type": "markdown",
      "metadata": {
        "id": "-p5nX537ExrD"
      },
      "source": [
        "###Squelching Line Output\n",
        "\n",
        "You might have noticed the annoying line of the form `[<matplotlib.lines.Line2D at 0x7f72fdbc1710>]` before the plots. This is because the `.plot` function actually produces output. Sometimes we wish not to display output, we can accomplish this with the semi-colon as follows."
      ]
    },
    {
      "cell_type": "code",
      "metadata": {
        "id": "jP1fewL1ExrE"
      },
      "source": [
        "plt.plot(X);"
      ],
      "execution_count": null,
      "outputs": []
    },
    {
      "cell_type": "markdown",
      "metadata": {
        "id": "VoR1pHCTXULh"
      },
      "source": [
        "**MI EJEMPLO**"
      ]
    },
    {
      "cell_type": "code",
      "metadata": {
        "colab": {
          "base_uri": "https://localhost:8080/",
          "height": 265
        },
        "id": "W0FFKHEtXThk",
        "outputId": "bb524e4d-9489-4f48-da5b-8f27617abe65"
      },
      "source": [
        "import numpy as np\r\n",
        "import matplotlib.pyplot as plt\r\n",
        "\r\n",
        "X = np.random.normal(1, 100, 100)\r\n",
        "plt.plot(X);"
      ],
      "execution_count": null,
      "outputs": [
        {
          "output_type": "display_data",
          "data": {
            "image/png": "[encoded data removed]",
            "text/plain": [
              "<Figure size 432x288 with 1 Axes>"
            ]
          },
          "metadata": {
            "tags": [],
            "needs_background": "light"
          }
        }
      ]
    },
    {
      "cell_type": "markdown",
      "metadata": {
        "id": "qxosu0boExrF"
      },
      "source": [
        "###Adding Axis Labels\n",
        "\n",
        "No self-respecting quant leaves a graph without labeled axes. Here are some commands to help with that."
      ]
    },
    {
      "cell_type": "code",
      "metadata": {
        "colab": {
          "base_uri": "https://localhost:8080/",
          "height": 279
        },
        "id": "m-lxuI-WExrG",
        "outputId": "7af3435d-3507-4e85-f9ae-366c7a5dc3bc"
      },
      "source": [
        "X = np.random.normal(0, 1, 100)\n",
        "X2 = np.random.normal(0, 1, 100)\n",
        "\n",
        "plt.plot(X);\n",
        "plt.plot(X2);\n",
        "plt.xlabel('Time') # The data we generated is unitless, but don't forget units in general.\n",
        "plt.ylabel('Returns')\n",
        "plt.legend(['X', 'X2']);"
      ],
      "execution_count": null,
      "outputs": [
        {
          "output_type": "display_data",
          "data": {
            "image/png": "[encoded data removed]",
            "text/plain": [
              "<Figure size 432x288 with 1 Axes>"
            ]
          },
          "metadata": {
            "tags": [],
            "needs_background": "light"
          }
        }
      ]
    },
    {
      "cell_type": "code",
      "metadata": {
        "colab": {
          "base_uri": "https://localhost:8080/",
          "height": 279
        },
        "id": "6u4Osh02X6nJ",
        "outputId": "23ef5bea-580f-41ea-ec7d-329e6f1b464a"
      },
      "source": [
        "import numpy as np\r\n",
        "import matplotlib.pyplot as plt\r\n",
        "\r\n",
        "X = np.random.normal(1, 100, 100)\r\n",
        "Y = np.random.normal(1, 100, 100)\r\n",
        "plt.plot(X);\r\n",
        "plt.plot(Y);\r\n",
        "plt.xlabel('Tiempo')\r\n",
        "plt.ylabel('Resultado')\r\n",
        "plt.legend(['X', 'Y'])\r\n",
        "plt.show()"
      ],
      "execution_count": null,
      "outputs": [
        {
          "output_type": "display_data",
          "data": {
            "image/png": "[encoded data removed]",
            "text/plain": [
              "<Figure size 432x288 with 1 Axes>"
            ]
          },
          "metadata": {
            "tags": [],
            "needs_background": "light"
          }
        }
      ]
    },
    {
      "cell_type": "markdown",
      "metadata": {
        "id": "LRoRfArdExrH"
      },
      "source": [
        "##Generating Statistics\n",
        "\n",
        "Let's use `numpy` to take some simple statistics."
      ]
    },
    {
      "cell_type": "code",
      "metadata": {
        "id": "4htx1EfvExrI"
      },
      "source": [
        "np.mean(X)"
      ],
      "execution_count": null,
      "outputs": []
    },
    {
      "cell_type": "code",
      "metadata": {
        "id": "fK6BZFH7ExrI"
      },
      "source": [
        "np.std(X)"
      ],
      "execution_count": null,
      "outputs": []
    },
    {
      "cell_type": "markdown",
      "metadata": {
        "id": "CA3IFHOOZRg8"
      },
      "source": [
        "**MI EJEMPLO**"
      ]
    },
    {
      "cell_type": "code",
      "metadata": {
        "colab": {
          "base_uri": "https://localhost:8080/"
        },
        "id": "sXCCpv-AZdz3",
        "outputId": "4a23713b-6454-4b55-d4dd-54e1ea8b6966"
      },
      "source": [
        "import numpy as np\r\n",
        "import matplotlib.pyplot as plt\r\n",
        "\r\n",
        "datos = np.arange(1,6)\r\n",
        "np.average(datos)"
      ],
      "execution_count": null,
      "outputs": [
        {
          "output_type": "execute_result",
          "data": {
            "text/plain": [
              "3.0"
            ]
          },
          "metadata": {
            "tags": []
          },
          "execution_count": 35
        }
      ]
    },
    {
      "cell_type": "markdown",
      "metadata": {
        "id": "d2KDGSAjExrJ"
      },
      "source": [
        "##Getting Real Pricing Data\n",
        "\n",
        "Randomly sampled data can be great for testing ideas, but let's get some real data. We can use `get_pricing` to do that. You can use the `?` syntax as discussed above to get more information on `get_pricing`'s arguments."
      ]
    },
    {
      "cell_type": "code",
      "metadata": {
        "id": "Cc4L6YSPExrM",
        "colab": {
          "base_uri": "https://localhost:8080/",
          "height": 163
        },
        "outputId": "57180fdf-ff6e-4db0-90e1-bf7a6dbfbe50"
      },
      "source": [
        "data = get_pricing('MSFT', start_date='2012-1-1', end_date='2015-6-1')"
      ],
      "execution_count": null,
      "outputs": [
        {
          "output_type": "error",
          "ename": "NameError",
          "evalue": "ignored",
          "traceback": [
            "\u001b[0;31m---------------------------------------------------------------------------\u001b[0m",
            "\u001b[0;31mNameError\u001b[0m                                 Traceback (most recent call last)",
            "\u001b[0;32m<ipython-input-2-2a6f498dd3b0>\u001b[0m in \u001b[0;36m<module>\u001b[0;34m()\u001b[0m\n\u001b[0;32m----> 1\u001b[0;31m \u001b[0mdata\u001b[0m \u001b[0;34m=\u001b[0m \u001b[0mget_pricing\u001b[0m\u001b[0;34m(\u001b[0m\u001b[0;34m'MSFT'\u001b[0m\u001b[0;34m,\u001b[0m \u001b[0mstart_date\u001b[0m\u001b[0;34m=\u001b[0m\u001b[0;34m'2012-1-1'\u001b[0m\u001b[0;34m,\u001b[0m \u001b[0mend_date\u001b[0m\u001b[0;34m=\u001b[0m\u001b[0;34m'2015-6-1'\u001b[0m\u001b[0;34m)\u001b[0m\u001b[0;34m\u001b[0m\u001b[0;34m\u001b[0m\u001b[0m\n\u001b[0m",
            "\u001b[0;31mNameError\u001b[0m: name 'get_pricing' is not defined"
          ]
        }
      ]
    },
    {
      "cell_type": "markdown",
      "metadata": {
        "id": "MT2SvERnbUkn"
      },
      "source": [
        "**MI EJEMPLO**"
      ]
    },
    {
      "cell_type": "code",
      "metadata": {
        "id": "fObM-fJAbXVf"
      },
      "source": [
        "import pandas_datareader as pdr\r\n",
        "import datetime\r\n",
        "import matplotlib.pyplot as plt\r\n",
        "\r\n",
        "data=pdr.get_data_yahoo(\"MFST\",start=datetime.datetime(2012,1,1), end=datetime.datetime(2015,6,1))"
      ],
      "execution_count": null,
      "outputs": []
    },
    {
      "cell_type": "markdown",
      "metadata": {
        "id": "2pZNypfKExrN"
      },
      "source": [
        "Our data is now a dataframe. You can see the datetime index and the colums with different pricing data."
      ]
    },
    {
      "cell_type": "code",
      "metadata": {
        "id": "Ji7wzlJdExrN",
        "colab": {
          "base_uri": "https://localhost:8080/",
          "height": 450
        },
        "outputId": "56b866a5-a72b-4639-c0e3-c15ba4a11f28"
      },
      "source": [
        "data"
      ],
      "execution_count": null,
      "outputs": [
        {
          "output_type": "execute_result",
          "data": {
            "text/html": [
              "<div>\n",
              "<style scoped>\n",
              "    .dataframe tbody tr th:only-of-type {\n",
              "        vertical-align: middle;\n",
              "    }\n",
              "\n",
              "    .dataframe tbody tr th {\n",
              "        vertical-align: top;\n",
              "    }\n",
              "\n",
              "    .dataframe thead th {\n",
              "        text-align: right;\n",
              "    }\n",
              "</style>\n",
              "<table border=\"1\" class=\"dataframe\">\n",
              "  <thead>\n",
              "    <tr style=\"text-align: right;\">\n",
              "      <th></th>\n",
              "      <th>High</th>\n",
              "      <th>Low</th>\n",
              "      <th>Open</th>\n",
              "      <th>Close</th>\n",
              "      <th>Volume</th>\n",
              "      <th>Adj Close</th>\n",
              "    </tr>\n",
              "    <tr>\n",
              "      <th>Date</th>\n",
              "      <th></th>\n",
              "      <th></th>\n",
              "      <th></th>\n",
              "      <th></th>\n",
              "      <th></th>\n",
              "      <th></th>\n",
              "    </tr>\n",
              "  </thead>\n",
              "  <tbody>\n",
              "    <tr>\n",
              "      <th>2012-10-03</th>\n",
              "      <td>1400.0</td>\n",
              "      <td>1050.0</td>\n",
              "      <td>1050.0</td>\n",
              "      <td>1400.0</td>\n",
              "      <td>2</td>\n",
              "      <td>1400.0</td>\n",
              "    </tr>\n",
              "    <tr>\n",
              "      <th>2012-10-04</th>\n",
              "      <td>1400.0</td>\n",
              "      <td>1400.0</td>\n",
              "      <td>1400.0</td>\n",
              "      <td>1400.0</td>\n",
              "      <td>0</td>\n",
              "      <td>1400.0</td>\n",
              "    </tr>\n",
              "    <tr>\n",
              "      <th>2012-10-05</th>\n",
              "      <td>1400.0</td>\n",
              "      <td>1400.0</td>\n",
              "      <td>1400.0</td>\n",
              "      <td>1400.0</td>\n",
              "      <td>0</td>\n",
              "      <td>1400.0</td>\n",
              "    </tr>\n",
              "    <tr>\n",
              "      <th>2012-10-08</th>\n",
              "      <td>1400.0</td>\n",
              "      <td>1400.0</td>\n",
              "      <td>1400.0</td>\n",
              "      <td>1400.0</td>\n",
              "      <td>0</td>\n",
              "      <td>1400.0</td>\n",
              "    </tr>\n",
              "    <tr>\n",
              "      <th>2012-10-09</th>\n",
              "      <td>1400.0</td>\n",
              "      <td>1400.0</td>\n",
              "      <td>1400.0</td>\n",
              "      <td>1400.0</td>\n",
              "      <td>0</td>\n",
              "      <td>1400.0</td>\n",
              "    </tr>\n",
              "    <tr>\n",
              "      <th>...</th>\n",
              "      <td>...</td>\n",
              "      <td>...</td>\n",
              "      <td>...</td>\n",
              "      <td>...</td>\n",
              "      <td>...</td>\n",
              "      <td>...</td>\n",
              "    </tr>\n",
              "    <tr>\n",
              "      <th>2015-05-26</th>\n",
              "      <td>16.1</td>\n",
              "      <td>14.5</td>\n",
              "      <td>14.7</td>\n",
              "      <td>14.5</td>\n",
              "      <td>61</td>\n",
              "      <td>14.5</td>\n",
              "    </tr>\n",
              "    <tr>\n",
              "      <th>2015-05-27</th>\n",
              "      <td>14.5</td>\n",
              "      <td>14.5</td>\n",
              "      <td>14.5</td>\n",
              "      <td>14.5</td>\n",
              "      <td>0</td>\n",
              "      <td>14.5</td>\n",
              "    </tr>\n",
              "    <tr>\n",
              "      <th>2015-05-28</th>\n",
              "      <td>14.5</td>\n",
              "      <td>14.5</td>\n",
              "      <td>14.5</td>\n",
              "      <td>14.5</td>\n",
              "      <td>0</td>\n",
              "      <td>14.5</td>\n",
              "    </tr>\n",
              "    <tr>\n",
              "      <th>2015-05-29</th>\n",
              "      <td>16.4</td>\n",
              "      <td>16.4</td>\n",
              "      <td>16.4</td>\n",
              "      <td>16.4</td>\n",
              "      <td>105</td>\n",
              "      <td>16.4</td>\n",
              "    </tr>\n",
              "    <tr>\n",
              "      <th>2015-06-01</th>\n",
              "      <td>16.9</td>\n",
              "      <td>10.1</td>\n",
              "      <td>12.5</td>\n",
              "      <td>12.5</td>\n",
              "      <td>44</td>\n",
              "      <td>12.5</td>\n",
              "    </tr>\n",
              "  </tbody>\n",
              "</table>\n",
              "<p>667 rows × 6 columns</p>\n",
              "</div>"
            ],
            "text/plain": [
              "              High     Low    Open   Close  Volume  Adj Close\n",
              "Date                                                         \n",
              "2012-10-03  1400.0  1050.0  1050.0  1400.0       2     1400.0\n",
              "2012-10-04  1400.0  1400.0  1400.0  1400.0       0     1400.0\n",
              "2012-10-05  1400.0  1400.0  1400.0  1400.0       0     1400.0\n",
              "2012-10-08  1400.0  1400.0  1400.0  1400.0       0     1400.0\n",
              "2012-10-09  1400.0  1400.0  1400.0  1400.0       0     1400.0\n",
              "...            ...     ...     ...     ...     ...        ...\n",
              "2015-05-26    16.1    14.5    14.7    14.5      61       14.5\n",
              "2015-05-27    14.5    14.5    14.5    14.5       0       14.5\n",
              "2015-05-28    14.5    14.5    14.5    14.5       0       14.5\n",
              "2015-05-29    16.4    16.4    16.4    16.4     105       16.4\n",
              "2015-06-01    16.9    10.1    12.5    12.5      44       12.5\n",
              "\n",
              "[667 rows x 6 columns]"
            ]
          },
          "metadata": {
            "tags": []
          },
          "execution_count": 3
        }
      ]
    },
    {
      "cell_type": "markdown",
      "metadata": {
        "id": "Ad_wobjgExrO"
      },
      "source": [
        "This is a pandas dataframe, so we can index in to just get price like this. For more info on pandas, please [click here](http://pandas.pydata.org/pandas-docs/stable/10min.html)."
      ]
    },
    {
      "cell_type": "code",
      "metadata": {
        "id": "2Bo9yVwKExrP"
      },
      "source": [
        "X = data['High']"
      ],
      "execution_count": null,
      "outputs": []
    },
    {
      "cell_type": "markdown",
      "metadata": {
        "id": "xedThxNJExrQ"
      },
      "source": [
        "Because there is now also date information in our data, we provide two series to `.plot`. `X.index` gives us the datetime index, and `X.values` gives us the pricing values. These are used as the X and Y coordinates to make a graph."
      ]
    },
    {
      "cell_type": "code",
      "metadata": {
        "id": "8hkh8VbsExrR",
        "colab": {
          "base_uri": "https://localhost:8080/",
          "height": 265
        },
        "outputId": "d88f172b-0a61-4fc7-d7bd-b7579d191af0"
      },
      "source": [
        "import matplotlib.pyplot as plt\n",
        "plt.plot(X.index, X.values)\n",
        "plt.ylabel('High')\n",
        "plt.legend(['MSFT']);"
      ],
      "execution_count": null,
      "outputs": [
        {
          "output_type": "display_data",
          "data": {
            "image/png": "[encoded data removed]",
            "text/plain": [
              "<Figure size 432x288 with 1 Axes>"
            ]
          },
          "metadata": {
            "tags": [],
            "needs_background": "light"
          }
        }
      ]
    },
    {
      "cell_type": "markdown",
      "metadata": {
        "id": "S54hP9NHExrS"
      },
      "source": [
        "We can get statistics again on real data."
      ]
    },
    {
      "cell_type": "code",
      "metadata": {
        "id": "7QZ_0HEcExrS",
        "colab": {
          "base_uri": "https://localhost:8080/"
        },
        "outputId": "f7ddb34f-89c3-4244-ff57-8322bcecd3c1"
      },
      "source": [
        "np.mean(X)"
      ],
      "execution_count": null,
      "outputs": [
        {
          "output_type": "execute_result",
          "data": {
            "text/plain": [
              "167.33136463165283"
            ]
          },
          "metadata": {
            "tags": []
          },
          "execution_count": 14
        }
      ]
    },
    {
      "cell_type": "code",
      "metadata": {
        "id": "l2BY2GlfExrT",
        "colab": {
          "base_uri": "https://localhost:8080/"
        },
        "outputId": "f6b6aa7b-3963-41a6-e244-e696613786a7"
      },
      "source": [
        "np.std(X)"
      ],
      "execution_count": null,
      "outputs": [
        {
          "output_type": "execute_result",
          "data": {
            "text/plain": [
              "263.06511996847956"
            ]
          },
          "metadata": {
            "tags": []
          },
          "execution_count": 13
        }
      ]
    },
    {
      "cell_type": "markdown",
      "metadata": {
        "id": "wTXwls4WYEVn"
      },
      "source": [
        "**MI EJEMPLO**"
      ]
    },
    {
      "cell_type": "code",
      "metadata": {
        "colab": {
          "base_uri": "https://localhost:8080/"
        },
        "id": "HelK2WQ6YEF4",
        "outputId": "cba06b4a-b1d0-49b3-fe48-67b1bb4fee4d"
      },
      "source": [
        "import numpy as np\r\n",
        "import matplotlib.pyplot as pl\r\n",
        "np.average(X)"
      ],
      "execution_count": null,
      "outputs": [
        {
          "output_type": "execute_result",
          "data": {
            "text/plain": [
              "167.33136463165283"
            ]
          },
          "metadata": {
            "tags": []
          },
          "execution_count": 15
        }
      ]
    },
    {
      "cell_type": "markdown",
      "metadata": {
        "id": "3CTqofoDExrU"
      },
      "source": [
        "##Getting Returns from Prices\n",
        "\n",
        "We can use the `pct_change` function to get returns. Notice how we drop the first element after doing this, as it will be `NaN` (nothing -> something results in a NaN percent change)."
      ]
    },
    {
      "cell_type": "code",
      "metadata": {
        "id": "xObt7ovOExrU"
      },
      "source": [
        "R = X.pct_change()[1:]"
      ],
      "execution_count": null,
      "outputs": []
    },
    {
      "cell_type": "markdown",
      "metadata": {
        "id": "HY3qbAZeExrV"
      },
      "source": [
        "We can plot the returns distribution as a histogram."
      ]
    },
    {
      "cell_type": "code",
      "metadata": {
        "id": "JoDWHwXRExrW",
        "colab": {
          "base_uri": "https://localhost:8080/",
          "height": 279
        },
        "outputId": "1f20dcda-2030-4b7d-d6a7-36ef0efe0357"
      },
      "source": [
        "plt.hist(R, bins=20)\n",
        "plt.xlabel('Return')\n",
        "plt.ylabel('Frequency')\n",
        "plt.legend(['MSFT Returns']);"
      ],
      "execution_count": null,
      "outputs": [
        {
          "output_type": "display_data",
          "data": {
            "image/png": "[encoded data removed]",
            "text/plain": [
              "<Figure size 432x288 with 1 Axes>"
            ]
          },
          "metadata": {
            "tags": [],
            "needs_background": "light"
          }
        }
      ]
    },
    {
      "cell_type": "markdown",
      "metadata": {
        "id": "bJNVbgEXExrX"
      },
      "source": [
        "Get statistics again."
      ]
    },
    {
      "cell_type": "code",
      "metadata": {
        "id": "xN5FdNReExrZ"
      },
      "source": [
        "np.mean(R)"
      ],
      "execution_count": null,
      "outputs": []
    },
    {
      "cell_type": "code",
      "metadata": {
        "id": "m4QZyNvyExrp"
      },
      "source": [
        "np.std(R)"
      ],
      "execution_count": null,
      "outputs": []
    },
    {
      "cell_type": "markdown",
      "metadata": {
        "id": "SmYNqgT5ZqoP"
      },
      "source": [
        "**MI EJEMPLO**"
      ]
    },
    {
      "cell_type": "code",
      "metadata": {
        "colab": {
          "base_uri": "https://localhost:8080/",
          "height": 265
        },
        "id": "pZxFqnkyZqZI",
        "outputId": "0c71ab1b-7adb-4fe1-b498-b8e34a8b74e6"
      },
      "source": [
        "import matplotlib.pyplot as plt\r\n",
        "plt.plot(R.index, R.values)\r\n",
        "plt.ylabel('High')\r\n",
        "plt.legend(['MSFT']);"
      ],
      "execution_count": null,
      "outputs": [
        {
          "output_type": "display_data",
          "data": {
            "image/png": "[encoded data removed]",
            "text/plain": [
              "<Figure size 432x288 with 1 Axes>"
            ]
          },
          "metadata": {
            "tags": [],
            "needs_background": "light"
          }
        }
      ]
    },
    {
      "cell_type": "markdown",
      "metadata": {
        "id": "Lp5J5LEAExrq"
      },
      "source": [
        "Now let's go backwards and generate data out of a normal distribution using the statistics we estimated from Microsoft's returns. We'll see that we have good reason to suspect Microsoft's returns may not be normal, as the resulting normal distribution looks far different."
      ]
    },
    {
      "cell_type": "code",
      "metadata": {
        "id": "1t3uW0YBExrt",
        "colab": {
          "base_uri": "https://localhost:8080/",
          "height": 279
        },
        "outputId": "b9bd30ab-7ae0-4d75-f5b5-60165aa50dd7"
      },
      "source": [
        "plt.hist(np.random.normal(np.mean(R), np.std(R), 10000), bins=20)\n",
        "plt.xlabel('Return')\n",
        "plt.ylabel('Frequency')\n",
        "plt.legend(['Normally Distributed Returns']);"
      ],
      "execution_count": null,
      "outputs": [
        {
          "output_type": "display_data",
          "data": {
            "image/png": "[encoded data removed]",
            "text/plain": [
              "<Figure size 432x288 with 1 Axes>"
            ]
          },
          "metadata": {
            "tags": [],
            "needs_background": "light"
          }
        }
      ]
    },
    {
      "cell_type": "markdown",
      "metadata": {
        "id": "SjUyPt0KExru"
      },
      "source": [
        "##Generating a Moving Average\n",
        "\n",
        "`pandas` has some nice tools to allow us to generate rolling statistics. Here's an example. Notice how there's no moving average for the first 60 days, as we don't have 60 days of data on which to generate the statistic."
      ]
    },
    {
      "cell_type": "code",
      "metadata": {
        "id": "s9_55IAFExrv",
        "colab": {
          "base_uri": "https://localhost:8080/",
          "height": 231
        },
        "outputId": "ed7ae2a0-0a34-408b-97ae-72c7e0ac315d"
      },
      "source": [
        "# Take the average of the last 60 days at each timepoint.\n",
        "MAVG = pd.rolling_mean(X, window=60)\n",
        "plt.plot(X.index, X.values)\n",
        "plt.plot(MAVG.index, MAVG.values)\n",
        "plt.ylabel('Price')\n",
        "plt.legend(['MSFT', '60-day MAVG']);"
      ],
      "execution_count": null,
      "outputs": [
        {
          "output_type": "error",
          "ename": "NameError",
          "evalue": "ignored",
          "traceback": [
            "\u001b[0;31m---------------------------------------------------------------------------\u001b[0m",
            "\u001b[0;31mNameError\u001b[0m                                 Traceback (most recent call last)",
            "\u001b[0;32m<ipython-input-3-f0d9bd0c847a>\u001b[0m in \u001b[0;36m<module>\u001b[0;34m()\u001b[0m\n\u001b[1;32m      1\u001b[0m \u001b[0;31m# Take the average of the last 60 days at each timepoint.\u001b[0m\u001b[0;34m\u001b[0m\u001b[0;34m\u001b[0m\u001b[0;34m\u001b[0m\u001b[0m\n\u001b[0;32m----> 2\u001b[0;31m \u001b[0mMAVG\u001b[0m \u001b[0;34m=\u001b[0m \u001b[0mpd\u001b[0m\u001b[0;34m.\u001b[0m\u001b[0mrolling_mean\u001b[0m\u001b[0;34m(\u001b[0m\u001b[0mX\u001b[0m\u001b[0;34m,\u001b[0m \u001b[0mwindow\u001b[0m\u001b[0;34m=\u001b[0m\u001b[0;36m60\u001b[0m\u001b[0;34m)\u001b[0m\u001b[0;34m\u001b[0m\u001b[0;34m\u001b[0m\u001b[0m\n\u001b[0m\u001b[1;32m      3\u001b[0m \u001b[0mplt\u001b[0m\u001b[0;34m.\u001b[0m\u001b[0mplot\u001b[0m\u001b[0;34m(\u001b[0m\u001b[0mX\u001b[0m\u001b[0;34m.\u001b[0m\u001b[0mindex\u001b[0m\u001b[0;34m,\u001b[0m \u001b[0mX\u001b[0m\u001b[0;34m.\u001b[0m\u001b[0mvalues\u001b[0m\u001b[0;34m)\u001b[0m\u001b[0;34m\u001b[0m\u001b[0;34m\u001b[0m\u001b[0m\n\u001b[1;32m      4\u001b[0m \u001b[0mplt\u001b[0m\u001b[0;34m.\u001b[0m\u001b[0mplot\u001b[0m\u001b[0;34m(\u001b[0m\u001b[0mMAVG\u001b[0m\u001b[0;34m.\u001b[0m\u001b[0mindex\u001b[0m\u001b[0;34m,\u001b[0m \u001b[0mMAVG\u001b[0m\u001b[0;34m.\u001b[0m\u001b[0mvalues\u001b[0m\u001b[0;34m)\u001b[0m\u001b[0;34m\u001b[0m\u001b[0;34m\u001b[0m\u001b[0m\n\u001b[1;32m      5\u001b[0m \u001b[0mplt\u001b[0m\u001b[0;34m.\u001b[0m\u001b[0mylabel\u001b[0m\u001b[0;34m(\u001b[0m\u001b[0;34m'Price'\u001b[0m\u001b[0;34m)\u001b[0m\u001b[0;34m\u001b[0m\u001b[0;34m\u001b[0m\u001b[0m\n",
            "\u001b[0;31mNameError\u001b[0m: name 'pd' is not defined"
          ]
        }
      ]
    },
    {
      "cell_type": "markdown",
      "metadata": {
        "id": "O7fXIJ1NKOGF"
      },
      "source": [
        "**MI EJEMPLO**"
      ]
    },
    {
      "cell_type": "code",
      "metadata": {
        "colab": {
          "base_uri": "https://localhost:8080/",
          "height": 231
        },
        "id": "58jNK4euKRdd",
        "outputId": "98614b98-3c71-40ce-b3c3-3257d7ad213c"
      },
      "source": [
        "import pandas \r\n",
        "\r\n",
        "\r\n",
        "MAVG = X.rolling(60).mean()\r\n",
        "plt.plot(X.index, X.values)\r\n",
        "plt.plot(MAVG.index, MAVG.values)\r\n",
        "plt.ylabel('Price')\r\n",
        "plt.legend(['MSFT', '60-day MAVG']);"
      ],
      "execution_count": null,
      "outputs": [
        {
          "output_type": "error",
          "ename": "NameError",
          "evalue": "ignored",
          "traceback": [
            "\u001b[0;31m---------------------------------------------------------------------------\u001b[0m",
            "\u001b[0;31mNameError\u001b[0m                                 Traceback (most recent call last)",
            "\u001b[0;32m<ipython-input-7-df00110f0911>\u001b[0m in \u001b[0;36m<module>\u001b[0;34m()\u001b[0m\n\u001b[1;32m      2\u001b[0m \u001b[0;34m\u001b[0m\u001b[0m\n\u001b[1;32m      3\u001b[0m \u001b[0;34m\u001b[0m\u001b[0m\n\u001b[0;32m----> 4\u001b[0;31m \u001b[0mMAVG\u001b[0m \u001b[0;34m=\u001b[0m \u001b[0mX\u001b[0m\u001b[0;34m.\u001b[0m\u001b[0mrolling\u001b[0m\u001b[0;34m(\u001b[0m\u001b[0;36m60\u001b[0m\u001b[0;34m)\u001b[0m\u001b[0;34m.\u001b[0m\u001b[0mmean\u001b[0m\u001b[0;34m(\u001b[0m\u001b[0;34m)\u001b[0m\u001b[0;34m\u001b[0m\u001b[0;34m\u001b[0m\u001b[0m\n\u001b[0m\u001b[1;32m      5\u001b[0m \u001b[0mplt\u001b[0m\u001b[0;34m.\u001b[0m\u001b[0mplot\u001b[0m\u001b[0;34m(\u001b[0m\u001b[0mX\u001b[0m\u001b[0;34m.\u001b[0m\u001b[0mindex\u001b[0m\u001b[0;34m,\u001b[0m \u001b[0mX\u001b[0m\u001b[0;34m.\u001b[0m\u001b[0mvalues\u001b[0m\u001b[0;34m)\u001b[0m\u001b[0;34m\u001b[0m\u001b[0;34m\u001b[0m\u001b[0m\n\u001b[1;32m      6\u001b[0m \u001b[0mplt\u001b[0m\u001b[0;34m.\u001b[0m\u001b[0mplot\u001b[0m\u001b[0;34m(\u001b[0m\u001b[0mMAVG\u001b[0m\u001b[0;34m.\u001b[0m\u001b[0mindex\u001b[0m\u001b[0;34m,\u001b[0m \u001b[0mMAVG\u001b[0m\u001b[0;34m.\u001b[0m\u001b[0mvalues\u001b[0m\u001b[0;34m)\u001b[0m\u001b[0;34m\u001b[0m\u001b[0;34m\u001b[0m\u001b[0m\n",
            "\u001b[0;31mNameError\u001b[0m: name 'X' is not defined"
          ]
        }
      ]
    },
    {
      "cell_type": "markdown",
      "metadata": {
        "id": "4Z_DoVFXExrw"
      },
      "source": [
        "This presentation is for informational purposes only and does not constitute an offer to sell, a solicitation to buy, or a recommendation for any security; nor does it constitute an offer to provide investment advisory or other services by Quantopian, Inc. (\"Quantopian\"). Nothing contained herein constitutes investment advice or offers any opinion with respect to the suitability of any security, and any views expressed herein should not be taken as advice to buy, sell, or hold any security or as an endorsement of any security or company. In preparing the information contained herein, Quantopian, Inc. has not taken into account the investment needs, objectives, and financial circumstances of any particular investor. Any views expressed and data illustrated herein were prepared based upon information, believed to be reliable, available to Quantopian, Inc. at the time of publication. Quantopian makes no guarantees as to their accuracy or completeness. All information is subject to change and may quickly become unreliable for various reasons, including changes in market conditions or economic circumstances."
      ]
    }
  ]
}